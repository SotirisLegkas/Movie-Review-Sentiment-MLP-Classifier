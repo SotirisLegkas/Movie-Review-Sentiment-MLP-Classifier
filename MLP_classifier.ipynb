{
  "cells": [
    {
      "cell_type": "markdown",
      "metadata": {
        "id": "TqufFPzClfbX"
      },
      "source": [
        "##### Imports"
      ]
    },
    {
      "cell_type": "code",
      "execution_count": null,
      "metadata": {
        "colab": {
          "base_uri": "https://localhost:8080/"
        },
        "id": "xPqgErFSj2kY",
        "outputId": "abbda15e-9b99-45b5-ddb9-dcde262fc7e4"
      },
      "outputs": [
        {
          "name": "stdout",
          "output_type": "stream",
          "text": [
            "\u001b[K     |████████████████████████████████| 462 kB 15.0 MB/s \n",
            "\u001b[K     |████████████████████████████████| 133 kB 5.5 MB/s \n",
            "\u001b[?25h"
          ]
        }
      ],
      "source": [
        "# Installing and checking keras tuner and tensorflow\n",
        "!pip install -q --upgrade tensorflow\n",
        "!pip install keras-tuner -q --upgrade"
      ]
    },
    {
      "cell_type": "code",
      "execution_count": null,
      "metadata": {
        "colab": {
          "base_uri": "https://localhost:8080/"
        },
        "id": "fOLjPnaHj9Cq",
        "outputId": "58ea6afa-bfd6-453e-e1a6-7a9178834902"
      },
      "outputs": [
        {
          "name": "stdout",
          "output_type": "stream",
          "text": [
            "1.11.0+cu113\n"
          ]
        }
      ],
      "source": [
        "#Verify Pytorch installation\n",
        "import torch\n",
        "print(torch.__version__)"
      ]
    },
    {
      "cell_type": "code",
      "execution_count": null,
      "metadata": {
        "colab": {
          "base_uri": "https://localhost:8080/"
        },
        "id": "GaXy2YvQj9g2",
        "outputId": "7652a99b-b80d-4a6e-d6c0-b4f7be066223"
      },
      "outputs": [
        {
          "name": "stdout",
          "output_type": "stream",
          "text": [
            "2.8.0\n"
          ]
        }
      ],
      "source": [
        "# Verify Tensorflow  installation\n",
        "import tensorflow as tf\n",
        "print(tf.__version__)"
      ]
    },
    {
      "cell_type": "code",
      "execution_count": null,
      "metadata": {
        "id": "xl49vN3UetZK"
      },
      "outputs": [],
      "source": [
        "#Necessary Library Imports \n",
        "from tensorflow.keras.callbacks import ModelCheckpoint,EarlyStopping\n",
        "from tensorflow.keras.models import Sequential\n",
        "from tensorflow.keras.layers import Dense, Dropout\n",
        "from tensorflow.keras.optimizers import Adam\n",
        "from keras.wrappers.scikit_learn import KerasClassifier\n",
        "import keras_tuner as kt\n",
        "from tensorflow import keras\n",
        "import math \n",
        "import numpy as np\n",
        "import os\n",
        "from sklearn.dummy import DummyClassifier\n",
        "import pandas as pd\n",
        "import time\n",
        "from sklearn.metrics import f1_score\n",
        "from sklearn.model_selection import train_test_split\n",
        "from sklearn.model_selection import PredefinedSplit\n",
        "from sklearn.feature_extraction.text import TfidfVectorizer\n",
        "from nltk import WhitespaceTokenizer\n",
        "from sklearn.linear_model import LogisticRegression\n",
        "from sklearn.metrics import f1_score, accuracy_score,confusion_matrix,classification_report,plot_confusion_matrix, recall_score, precision_score\n",
        "from sklearn.model_selection import GridSearchCV\n",
        "from sklearn.model_selection import cross_val_score, KFold\n",
        "from sklearn.metrics import precision_recall_curve\n",
        "from sklearn.metrics import auc\n",
        "import matplotlib.pyplot as plt\n",
        "from sklearn.metrics import mean_squared_error\n",
        "from sklearn.metrics import mean_absolute_error\n",
        "import seaborn as sns\n",
        "from sklearn.metrics import roc_auc_score\n",
        "import csv\n",
        "import gzip\n",
        "import urllib.request\n",
        "import requests\n",
        "import nltk\n",
        "from nltk.corpus import stopwords\n",
        "from sklearn.manifold import TSNE\n",
        "from sklearn.decomposition import PCA, TruncatedSVD\n",
        "import re\n",
        "from nltk.stem import WordNetLemmatizer\n",
        "from sklearn.feature_selection import mutual_info_classif\n",
        "import warnings\n",
        "warnings.filterwarnings(\"ignore\")"
      ]
    },
    {
      "cell_type": "code",
      "execution_count": null,
      "metadata": {
        "id": "OsSL5HEetkxT"
      },
      "outputs": [],
      "source": []
    },
    {
      "cell_type": "code",
      "execution_count": null,
      "metadata": {
        "id": "LSDX_5uPe29p"
      },
      "outputs": [],
      "source": [
        "#Downloading Stopwords & Dictionary\n",
        "nltk.download('stopwords',quiet=True)\n",
        "nltk.download('wordnet',quiet=True)\n",
        "\n",
        "#Downloading data(In compressed form) provided by Stanford University\n",
        "!wget -q  http://ai.stanford.edu/~amaas/data/sentiment/aclImdb_v1.tar.gz\n",
        "\n",
        "#Unzipping data\n",
        "!tar  xzf aclImdb_v1.tar.gz"
      ]
    },
    {
      "cell_type": "code",
      "execution_count": null,
      "metadata": {
        "id": "6ipkrcvAf0_T"
      },
      "outputs": [],
      "source": [
        "#Setting random seed so we can analyse results\n",
        "np.random.seed(365)"
      ]
    },
    {
      "cell_type": "markdown",
      "metadata": {
        "id": "EkeQXIThlkVk"
      },
      "source": [
        "##### Loading Data"
      ]
    },
    {
      "cell_type": "code",
      "execution_count": null,
      "metadata": {
        "id": "5Vqabttaf2y-"
      },
      "outputs": [],
      "source": [
        "#Initializing Function to load data\n",
        "def load_train_test_imdb_data(data_dir):\n",
        "    \"\"\"Loads the IMDB train/test datasets from a folder path.\n",
        "    Input:\n",
        "    data_dir: path to the \"aclImdb\" folder.\n",
        "    \n",
        "    Returns:\n",
        "    train/test datasets as pandas dataframes.\n",
        "    \"\"\"\n",
        "\n",
        "    data = {}\n",
        "    for split in [\"train\", \"test\"]:\n",
        "        data[split] = []\n",
        "        for sentiment in [\"neg\", \"pos\"]:\n",
        "          #Renaming sentiment to values \n",
        "            score = 1 if sentiment == \"pos\" else 0\n",
        "\n",
        "            path = os.path.join(data_dir, split, sentiment)\n",
        "            file_names = os.listdir(path)\n",
        "            for f_name in file_names:\n",
        "                with open(os.path.join(path, f_name), \"r\") as f:\n",
        "                    review = f.read()\n",
        "                    data[split].append([review, score])\n",
        "    #Shuffling train data\n",
        "    np.random.shuffle(data[\"train\"])        \n",
        "    data[\"train\"] = pd.DataFrame(data[\"train\"],\n",
        "                                 columns=['text', 'sentiment'])\n",
        "     #Shuffling test data\n",
        "    np.random.shuffle(data[\"test\"])\n",
        "    data[\"test\"] = pd.DataFrame(data[\"test\"],\n",
        "                                columns=['text', 'sentiment'])\n",
        "    return data[\"train\"], data[\"test\"] "
      ]
    },
    {
      "cell_type": "code",
      "execution_count": null,
      "metadata": {
        "id": "dCOIDNlcf4gM"
      },
      "outputs": [],
      "source": [
        "# Loading the data into train,test\n",
        "train_data, test_data = load_train_test_imdb_data(\n",
        "    data_dir=\"aclImdb/\")"
      ]
    },
    {
      "cell_type": "code",
      "execution_count": null,
      "metadata": {
        "id": "dHdjpchFgFwO"
      },
      "outputs": [],
      "source": [
        "#Combining them together\n",
        "newdf=pd.concat([train_data,test_data],ignore_index=True)"
      ]
    },
    {
      "cell_type": "markdown",
      "metadata": {
        "id": "3t4pxIgelsla"
      },
      "source": [
        "##### Preprocessing + Learning Curves Function"
      ]
    },
    {
      "cell_type": "code",
      "execution_count": null,
      "metadata": {
        "colab": {
          "base_uri": "https://localhost:8080/"
        },
        "id": "cZqzm-iIgHWE",
        "outputId": "7b20f0e2-6149-4afe-e9e2-b1153fbadf96"
      },
      "outputs": [
        {
          "name": "stdout",
          "output_type": "stream",
          "text": [
            "Train length 35000\n",
            "Dev length 6000\n",
            "Test length 9000\n"
          ]
        }
      ],
      "source": [
        "#Splitting our dataset into train & test\n",
        "train_data,test_data = train_test_split(newdf,train_size=0.7,random_state=1)\n",
        "\n",
        "#Splitting our test set into dev & test \n",
        "dev_data,test_data = train_test_split(test_data, test_size =  0.6 ,random_state=1)\n",
        "\n",
        "#Checking lengths\n",
        "print('Train length',train_data.shape[0])\n",
        "print('Dev length',dev_data.shape[0])\n",
        "print('Test length',test_data.shape[0])"
      ]
    },
    {
      "cell_type": "code",
      "execution_count": null,
      "metadata": {
        "colab": {
          "base_uri": "https://localhost:8080/"
        },
        "id": "pmKMPsqXgJDL",
        "outputId": "c9cbb2f5-6d25-46a5-e591-ac2c0c0056ba"
      },
      "outputs": [
        {
          "name": "stdout",
          "output_type": "stream",
          "text": [
            "We have an average of  230 words per review for the train set.\n"
          ]
        }
      ],
      "source": [
        "#Average train document length\n",
        "train_data['countWords'] = train_data.text.str.count(' ') + 1\n",
        "average=train_data.countWords.sum()/len(train_data)\n",
        "print('We have an average of ',round(average),'words per review for the train set.')"
      ]
    },
    {
      "cell_type": "code",
      "execution_count": null,
      "metadata": {
        "id": "WMyKrtzngLKz"
      },
      "outputs": [],
      "source": [
        "#Init lemmatizer\n",
        "lemmzer = WordNetLemmatizer() "
      ]
    },
    {
      "cell_type": "code",
      "execution_count": null,
      "metadata": {
        "id": "ZGwyJ08IgM4t"
      },
      "outputs": [],
      "source": [
        "#Preprocessing Function\n",
        "def prep(corpus): # fun to preprocess the corpus # allagi \n",
        "  corpus= corpus.apply(lambda x:x.lower()) #Lowercase\n",
        "  corpus= corpus.apply(lambda x:re.sub(r'<.*?>', ' ', x)) #Remove html tags\n",
        "  corpus= corpus.apply(lambda x: re.sub(r'\\W', ' ', str(x))) #Remove punctuation\n",
        "  corpus= corpus.apply(lambda x:re.sub('\\d+', ' ', x)) #Remove numbers\n",
        "  corpus= corpus.apply(lambda x:re.sub(r'\\s+[a-zA-Z]\\s+', ' ', x)) #Remove single characters\n",
        "  corpus= corpus.apply(lambda x:re.sub(r'\\s+', ' ',x)) #Remove multiple spaces\n",
        "  corpus= corpus.apply(lambda x:[lemmzer.lemmatize(word) for word in x.split()]) #Running Lemmatizer by splitting the sentences into words\n",
        "  corpus= corpus.apply(lambda x:' '.join(x)) #Re-forming the previously split sentences\n",
        "  return corpus"
      ]
    },
    {
      "cell_type": "code",
      "execution_count": null,
      "metadata": {
        "id": "CRMAg8bbgOTw"
      },
      "outputs": [],
      "source": [
        "#Running prep on our dataset\n",
        "train_data.text=prep(train_data.text)\n",
        "dev_data.text=prep(dev_data.text)\n",
        "test_data.text = prep(test_data.text)\n",
        "\n",
        "#Renaming our target values\n",
        "y_train = train_data.sentiment\n",
        "y_dev = dev_data.sentiment\n",
        "y_test = test_data.sentiment"
      ]
    },
    {
      "cell_type": "code",
      "execution_count": null,
      "metadata": {
        "id": "HPV2-rgEgPws"
      },
      "outputs": [],
      "source": [
        "#Init TFIDF\n",
        "vectorizer = TfidfVectorizer(\n",
        "    ngram_range = (1, 2), \n",
        "    max_features = 7500,\n",
        "    sublinear_tf = True, \n",
        "    stop_words = stopwords.words('english'))"
      ]
    },
    {
      "cell_type": "code",
      "execution_count": null,
      "metadata": {
        "colab": {
          "base_uri": "https://localhost:8080/"
        },
        "id": "yKTkKl9vgRXz",
        "outputId": "3745e1a4-4621-49d6-eb25-78cdcd5e35f1"
      },
      "outputs": [
        {
          "name": "stdout",
          "output_type": "stream",
          "text": [
            "Train dataset's vocabulary size is 77709 words long.\n"
          ]
        }
      ],
      "source": [
        "#Vocabulary Size\n",
        "VocabSize = TfidfVectorizer( \n",
        "    sublinear_tf = True, \n",
        "    stop_words = stopwords.words('english'))\n",
        "vocabsize = VocabSize.fit_transform(train_data.text)\n",
        "print(\"Train dataset's vocabulary size is\",vocabsize.shape[1],\"words long.\")"
      ]
    },
    {
      "cell_type": "code",
      "execution_count": null,
      "metadata": {
        "id": "V74la8NkgTD0"
      },
      "outputs": [],
      "source": [
        "#Dataframe with train and dev data for our Grid Search\n",
        "param=pd.concat([train_data,dev_data],axis=0)\n",
        "y_param=param.sentiment"
      ]
    },
    {
      "cell_type": "code",
      "execution_count": null,
      "metadata": {
        "colab": {
          "base_uri": "https://localhost:8080/"
        },
        "id": "_QfPzdG_gUc1",
        "outputId": "78857718-220c-42b9-8a09-02d9cb618ca2"
      },
      "outputs": [
        {
          "name": "stdout",
          "output_type": "stream",
          "text": [
            "['aaron', 'abandoned', 'abc', 'ability', 'able', 'abraham', 'abrupt', 'abruptly', 'absence', 'absent', 'absolute', 'absolutely', 'absolutely nothing', 'absorbed', 'absurd', 'absurdity', 'abuse', 'abused', 'abusive', 'abysmal', 'academy', 'academy award', 'accent', 'accept', 'acceptable', 'acceptance', 'accepted', 'accepting', 'access', 'accident', 'accidentally', 'acclaimed', 'accompanied', 'accomplish', 'accomplished', 'according', 'account', 'accuracy', 'accurate', 'accurately', 'accused', 'achieve', 'achieved', 'achievement', 'acid', 'across', 'act', 'act like', 'acted', 'acting', 'acting ability', 'acting bad', 'acting film', 'acting good', 'acting great', 'acting like', 'acting movie', 'acting performance', 'acting skill', 'acting talent', 'acting terrible', 'acting wa', 'action', 'action film', 'action flick', 'action movie', 'action packed', 'action scene', 'action sequence', 'active', 'activity', 'actor', 'actor actress', 'actor film', 'actor good', 'actor great', 'actor like', 'actor movie', 'actor play', 'actor played', 'actor playing', 'actor really', 'actor wa', 'actress', 'actual', 'actually', 'actually good', 'actually quite', 'actually wa', 'ad', 'adam', 'adaptation', 'adapted', 'adaption', 'add', 'added', 'addict', 'addicted', 'addiction', 'adding', 'addition', 'additional', 'address', 'adequate', 'admirable', 'admire', 'admirer', 'admit', 'admittedly', 'adolescent', 'adopted', 'adorable', 'adult', 'advance', 'advanced', 'advantage', 'adventure', 'advertising', 'advice', 'advise', 'aesthetic', 'affair', 'affect', 'affected', 'affection', 'afford', 'aforementioned', 'afraid', 'africa', 'african', 'african american', 'afternoon', 'afterward', 'afterwards', 'age', 'aged', 'agency', 'agenda', 'agent', 'aging', 'ago', 'ago wa', 'agree', 'agreed', 'agrees', 'ah', 'ahead', 'ahead time', 'aid', 'aim', 'aimed', 'air', 'air force', 'aircraft', 'aired', 'airplane', 'airport', 'aka', 'akshay', 'al', 'al pacino', 'ala', 'alan', 'albeit', 'albert', 'album', 'alcohol', 'alcoholic', 'alec', 'alert', 'alex', 'alexander', 'alfred', 'ali', 'alice', 'alien', 'alike', 'alison', 'alive', 'allen', 'alley', 'allow', 'allowed', 'allowing', 'allows', 'ally', 'almighty', 'almost', 'almost every', 'almost like', 'alone', 'along', 'along line', 'along way', 'alongside', 'already', 'already know', 'alright', 'also', 'also get', 'also good', 'also great', 'also ha', 'also like', 'also make', 'also one', 'also quite', 'also show', 'also starring', 'also think', 'also wa', 'alter', 'altered', 'alternate', 'alternative', 'although', 'although film', 'although wa', 'altman', 'altogether', 'always', 'amanda', 'amateur', 'amateurish', 'amazed', 'amazing', 'amazingly', 'amazon', 'ambiguous', 'ambition', 'ambitious', 'america', 'american', 'american film', 'american movie', 'american pie', 'among', 'amongst', 'amount', 'amused', 'amusement', 'amusing', 'amy', 'analysis', 'anchor', 'ancient', 'anderson', 'andre', 'andrew', 'andy', 'angel', 'angela', 'angeles', 'anger', 'angle', 'angry', 'angst', 'animal', 'animated', 'animation', 'animator', 'anime', 'ann', 'anna', 'anne', 'annie', 'annoyed', 'annoying', 'another', 'another film', 'another great', 'another movie', 'another one', 'another thing', 'answer', 'answer question', 'answered', 'ant', 'anthony', 'anti', 'anti hero', 'antic', 'anticipation', 'antonio', 'anybody', 'anymore', 'anyone', 'anyone could', 'anyone else', 'anyone ha', 'anyone know', 'anyone like', 'anyone would', 'anything', 'anything else', 'anything like', 'anyway', 'anyways', 'anywhere', 'apart', 'apartment', 'ape', 'apocalypse', 'apocalyptic', 'appalling', 'apparent', 'apparent reason', 'apparently', 'appeal', 'appealing', 'appear', 'appearance', 'appeared', 'appearing', 'appears', 'appreciate', 'appreciated', 'appreciation', 'approach', 'approaching', 'appropriate', 'appropriately', 'april', 'arab', 'arc', 'architect', 'area', 'argento', 'arguably', 'argue', 'argument', 'arm', 'armed', 'army', 'arnold', 'around', 'around time', 'around world', 'arrest', 'arrested', 'arrival', 'arrive', 'arrived', 'arrives', 'arrogant', 'arrow', 'art', 'art direction', 'art film', 'art house', 'arthur', 'article', 'artificial', 'artist', 'artistic', 'artsy', 'ash', 'ashamed', 'asia', 'asian', 'aside', 'ask', 'asked', 'asking', 'asks', 'asleep', 'aspect', 'aspect film', 'aspiring', 'assassin', 'assassination', 'assault', 'asset', 'assigned', 'assignment', 'assistant', 'associate', 'associated', 'assume', 'assumed', 'assuming', 'assured', 'astaire', 'astonishing', 'astounding', 'astronaut', 'asylum', 'atlantis', 'atmosphere', 'atmospheric', 'atrocious', 'atrocity', 'attached', 'attack', 'attacked', 'attacking', 'attempt', 'attempted', 'attempting', 'attend', 'attention', 'attitude', 'attorney', 'attracted', 'attraction', 'attractive', 'audience', 'audience wa', 'audio', 'audition', 'aunt', 'aussie', 'austen', 'austin', 'australia', 'australian', 'authentic', 'authenticity', 'author', 'authority', 'automatically', 'available', 'average', 'avoid', 'avoid cost', 'avoid movie', 'avoided', 'awake', 'award', 'award winning', 'aware', 'away', 'away movie', 'awe', 'awesome', 'awful', 'awful film', 'awful movie', 'awfully', 'awhile', 'awkward', 'axe', 'babe', 'baby', 'back', 'back day', 'back forth', 'back home', 'back life', 'back story', 'back time', 'back wa', 'backdrop', 'background', 'bacon', 'bad', 'bad acting', 'bad actor', 'bad bad', 'bad enough', 'bad even', 'bad film', 'bad good', 'bad guy', 'bad movie', 'bad one', 'bad plot', 'bad script', 'bad taste', 'bad thing', 'bad wa', 'baddie', 'badly', 'bag', 'baker', 'balance', 'balanced', 'baldwin', 'ball', 'ballet', 'bam', 'banal', 'band', 'bandit', 'bang', 'bank', 'banned', 'bar', 'barbara', 'barbara stanwyck', 'bare', 'barely', 'bargain', 'barker', 'barney', 'barrel', 'barry', 'barrymore', 'base', 'baseball', 'based', 'based true', 'basement', 'basic', 'basically', 'basis', 'basketball', 'bat', 'bates', 'bath', 'bathroom', 'batman', 'battle', 'battle scene', 'bay', 'bbc', 'beach', 'bean', 'bear', 'beast', 'beat', 'beaten', 'beating', 'beatles', 'beatty', 'beautiful', 'beautiful film', 'beautiful woman', 'beautifully', 'beauty', 'became', 'become', 'becomes', 'becoming', 'bed', 'bedroom', 'beer', 'befriends', 'began', 'begin', 'beginning', 'beginning end', 'beginning film', 'beginning movie', 'behave', 'behavior', 'behaviour', 'behind', 'behind scene', 'behold', 'bela', 'bela lugosi', 'belief', 'believable', 'believe', 'believe movie', 'believe wa', 'believed', 'believer', 'believing', 'bell', 'belle', 'belong', 'belongs', 'beloved', 'belt', 'belushi', 'ben', 'beneath', 'benefit', 'bent', 'bergman', 'berlin', 'bernard', 'beside', 'besides', 'best', 'best actor', 'best ever', 'best film', 'best friend', 'best known', 'best movie', 'best one', 'best part', 'best performance', 'best picture', 'best scene', 'best thing', 'best way', 'best work', 'bet', 'betrayal', 'bette', 'bette davis', 'better', 'better film', 'better job', 'better movie', 'better one', 'bettie', 'betty', 'beverly', 'beware', 'beyond', 'biased', 'bible', 'biblical', 'big', 'big budget', 'big city', 'big deal', 'big fan', 'big name', 'big screen', 'big time', 'bigger', 'biggest', 'biggest problem', 'bike', 'bikini', 'bill', 'billed', 'billy', 'bin', 'biography', 'biopic', 'bird', 'birth', 'birthday', 'bit', 'bit like', 'bit much', 'bitch', 'bite', 'bitten', 'bitter', 'bizarre', 'black', 'black comedy', 'black man', 'black white', 'blade', 'blah', 'blah blah', 'blair', 'blair witch', 'blake', 'blame', 'bland', 'blank', 'blast', 'blatant', 'blatantly', 'bleak', 'blend', 'blew', 'blind', 'blob', 'block', 'blockbuster', 'blond', 'blonde', 'blood', 'blood gore', 'bloody', 'blow', 'blowing', 'blown', 'blown away', 'blue', 'blunt', 'bo', 'board', 'boast', 'boat', 'bob', 'bobby', 'body', 'bogart', 'bold', 'boll', 'bollywood', 'bomb', 'bond', 'bone', 'bonnie', 'bonus', 'boob', 'book', 'book movie', 'book wa', 'boom', 'boot', 'booth', 'border', 'bore', 'bored', 'boredom', 'boring', 'boring movie', 'boris', 'born', 'borrowed', 'bos', 'boston', 'bother', 'bothered', 'bottle', 'bottom', 'bottom line', 'bought', 'bought dvd', 'bound', 'bounty', 'bourne', 'bow', 'box', 'box office', 'boxer', 'boxing', 'boy', 'boy wa', 'boyfriend', 'brad', 'brad pitt', 'brain', 'branagh', 'brand', 'brando', 'brat', 'brave', 'bravo', 'brazil', 'bread', 'break', 'breakdown', 'breakfast', 'breaking', 'breast', 'breath', 'breathtaking', 'breed', 'brenda', 'brian', 'bride', 'bridge', 'brief', 'briefly', 'bright', 'brilliance', 'brilliant', 'brilliantly', 'bring', 'bring back', 'bringing', 'brings', 'brit', 'britain', 'british', 'british film', 'broad', 'broadcast', 'broadway', 'broke', 'broken', 'bronson', 'brook', 'brooklyn', 'brosnan', 'brother', 'brought', 'brought back', 'brown', 'bruce', 'bruce willis', 'bruno', 'brutal', 'brutality', 'brutally', 'btw', 'bubble', 'buck', 'bucket', 'bud', 'buddy', 'budget', 'budget film', 'budget horror', 'budget movie', 'buff', 'buffalo', 'bug', 'build', 'building', 'built', 'bull', 'bullet', 'bullock', 'bully', 'bumbling', 'bunch', 'bunny', 'buried', 'burn', 'burned', 'burning', 'burst', 'burt', 'burt reynolds', 'burton', 'bus', 'busey', 'bush', 'business', 'businessman', 'buster', 'busy', 'butcher', 'butler', 'butt', 'button', 'buy', 'buying', 'cabin', 'cable', 'cage', 'cagney', 'caine', 'cake', 'caliber', 'california', 'call', 'called', 'calling', 'calm', 'camcorder', 'came', 'came across', 'cameo', 'camera', 'camera angle', 'camera work', 'cameraman', 'cameron', 'camp', 'campaign', 'campbell', 'campy', 'canada', 'canadian', 'cancer', 'candidate', 'candy', 'cannibal', 'cannon', 'cannot', 'cannot believe', 'cant', 'cap', 'capable', 'capital', 'captain', 'captivating', 'capture', 'captured', 'capturing', 'car', 'car chase', 'card', 'cardboard', 'care', 'care character', 'cared', 'career', 'careful', 'carefully', 'carell', 'carey', 'caricature', 'caring', 'carl', 'carlos', 'carmen', 'carol', 'carpenter', 'carradine', 'carrey', 'carrie', 'carried', 'carry', 'carrying', 'carter', 'cartoon', 'cary', 'case', 'casey', 'cash', 'casper', 'cassavetes', 'cast', 'cast crew', 'cast member', 'cast wa', 'casting', 'castle', 'casual', 'cat', 'catch', 'catching', 'catchy', 'category', 'catherine', 'catholic', 'caught', 'cause', 'caused', 'causing', 'cave', 'cd', 'celebration', 'celebrity', 'cell', 'cell phone', 'celluloid', 'cemetery', 'cent', 'center', 'centered', 'central', 'central character', 'centre', 'century', 'certain', 'certainly', 'certainly one', 'cg', 'cgi', 'chain', 'chainsaw', 'chair', 'challenge', 'challenged', 'challenging', 'champion', 'championship', 'chan', 'chance', 'chance see', 'change', 'changed', 'changing', 'channel', 'chaos', 'chaplin', 'chapter', 'character', 'character actor', 'character also', 'character could', 'character development', 'character even', 'character film', 'character get', 'character ha', 'character like', 'character make', 'character movie', 'character one', 'character played', 'character really', 'character story', 'character study', 'character wa', 'character well', 'character would', 'characteristic', 'characterization', 'charge', 'charged', 'charisma', 'charismatic', 'charles', 'charlie', 'charlotte', 'charm', 'charming', 'chase', 'chase scene', 'chased', 'chasing', 'che', 'cheap', 'cheat', 'cheated', 'cheating', 'check', 'checked', 'checking', 'cheek', 'cheer', 'cheese', 'cheesy', 'chemistry', 'chess', 'chest', 'chew', 'chicago', 'chick', 'chick flick', 'chicken', 'chief', 'child', 'childhood', 'childish', 'chill', 'chilling', 'china', 'chinese', 'chip', 'choice', 'choose', 'chooses', 'chop', 'choppy', 'choreographed', 'choreography', 'chorus', 'chose', 'chosen', 'chris', 'christ', 'christian', 'christie', 'christina', 'christine', 'christmas', 'christopher', 'christopher walken', 'chronicle', 'chuck', 'chuckle', 'church', 'cia', 'cigarette', 'cinderella', 'cinema', 'cinematic', 'cinematographer', 'cinematography', 'cinematography wa', 'circle', 'circumstance', 'circus', 'citizen', 'citizen kane', 'city', 'civil', 'civil war', 'civilian', 'civilization', 'clad', 'claim', 'claimed', 'claiming', 'claire', 'clark', 'clash', 'class', 'classic', 'classic film', 'classic movie', 'classical', 'claude', 'claustrophobic', 'clay', 'clean', 'cleaning', 'clear', 'clearly', 'clerk', 'clever', 'cleverly', 'cliche', 'cliché', 'clichéd', 'clichés', 'client', 'cliff', 'climactic', 'climax', 'climb', 'clint', 'clint eastwood', 'clip', 'clock', 'clone', 'clooney', 'close', 'close ups', 'closed', 'closely', 'closer', 'closest', 'closet', 'closing', 'clothes', 'clothing', 'cloud', 'clown', 'club', 'clue', 'clueless', 'clumsy', 'co', 'co star', 'coach', 'coast', 'coaster', 'coat', 'code', 'coffee', 'coffin', 'cohen', 'coherent', 'coincidence', 'cold', 'cole', 'colin', 'collapse', 'colleague', 'collect', 'collection', 'collector', 'college', 'colonel', 'color', 'colorful', 'colour', 'columbia', 'columbo', 'com', 'combat', 'combination', 'combine', 'combined', 'come', 'come across', 'come along', 'come back', 'come close', 'come life', 'come mind', 'come together', 'comeback', 'comedian', 'comedic', 'comedy', 'comedy drama', 'comedy movie', 'comedy wa', 'comfort', 'comfortable', 'comic', 'comic book', 'comic relief', 'comical', 'coming', 'coming age', 'command', 'commander', 'comment', 'comment movie', 'commentary', 'commented', 'commenting', 'commercial', 'commit', 'commitment', 'committed', 'common', 'common sense', 'communicate', 'communication', 'communist', 'community', 'companion', 'company', 'compare', 'compared', 'comparing', 'comparison', 'compassion', 'compelled', 'compelling', 'competent', 'competition', 'complain', 'complaining', 'complaint', 'complete', 'complete waste', 'completed', 'completely', 'completely different', 'complex', 'complexity', 'complicated', 'complication', 'compliment', 'composed', 'composer', 'composition', 'computer', 'con', 'conan', 'conceived', 'concentrate', 'concept', 'concern', 'concerned', 'concerning', 'concert', 'conclusion', 'condition', 'confess', 'confession', 'confidence', 'confident', 'conflict', 'confront', 'confrontation', 'confused', 'confusing', 'confusion', 'connect', 'connected', 'connection', 'connery', 'conrad', 'conscience', 'conscious', 'consequence', 'conservative', 'consider', 'considerable', 'considerably', 'consideration', 'considered', 'considering', 'consistent', 'consistently', 'consists', 'conspiracy', 'constant', 'constantly', 'constructed', 'construction', 'contact', 'contain', 'contained', 'containing', 'contains', 'contemporary', 'content', 'contest', 'contestant', 'context', 'continually', 'continue', 'continued', 'continues', 'continuing', 'continuity', 'contract', 'contrary', 'contrast', 'contribution', 'contrived', 'control', 'controlled', 'controversial', 'controversy', 'conveniently', 'convention', 'conventional', 'conversation', 'convey', 'convict', 'conviction', 'convince', 'convinced', 'convinces', 'convincing', 'convincingly', 'convoluted', 'cook', 'cooking', 'cool', 'cooper', 'cop', 'cope', 'coppola', 'copy', 'core', 'corman', 'corn', 'corner', 'corny', 'corporate', 'corporation', 'corps', 'corpse', 'correct', 'correctly', 'corrupt', 'corruption', 'cost', 'costume', 'couch', 'could', 'could better', 'could come', 'could done', 'could easily', 'could ever', 'could find', 'could get', 'could give', 'could go', 'could good', 'could made', 'could make', 'could much', 'could never', 'could possibly', 'could really', 'could say', 'could see', 'could tell', 'could used', 'could watch', 'count', 'counter', 'counterpart', 'countless', 'country', 'countryside', 'county', 'couple', 'couple time', 'couple year', 'coupled', 'courage', 'course', 'court', 'cousin', 'cover', 'covered', 'cow', 'coward', 'cowboy', 'cox', 'crack', 'cracking', 'craft', 'crafted', 'craig', 'crap', 'crappy', 'crash', 'craven', 'crawford', 'crawl', 'crazed', 'crazy', 'cream', 'create', 'created', 'creates', 'creating', 'creation', 'creative', 'creativity', 'creator', 'creature', 'credibility', 'credible', 'credit', 'credited', 'creep', 'creepy', 'crew', 'cried', 'crime', 'criminal', 'cringe', 'crisis', 'crisp', 'critic', 'critical', 'criticism', 'critique', 'critter', 'crocodile', 'crook', 'cross', 'crossing', 'crowd', 'crucial', 'crude', 'cruel', 'cruelty', 'cruise', 'crush', 'cry', 'crystal', 'cuba', 'cube', 'cue', 'cult', 'cult classic', 'cultural', 'culture', 'cup', 'cure', 'curiosity', 'curious', 'curly', 'current', 'currently', 'curse', 'curtis', 'cusack', 'cushing', 'custer', 'customer', 'cut', 'cute', 'cutting', 'cyborg', 'cynical', 'da', 'dad', 'daddy', 'daily', 'dallas', 'dalton', 'damage', 'dame', 'damme', 'damn', 'damned', 'damon', 'dan', 'dana', 'dance', 'dance number', 'dancer', 'dancing', 'dane', 'danger', 'dangerous', 'daniel', 'danny', 'dare', 'daring', 'dark', 'darker', 'darkness', 'darn', 'date', 'dated', 'dating', 'daughter', 'dave', 'david', 'david lynch', 'davis', 'davy', 'dawn', 'dawson', 'day', 'day wa', 'de', 'de niro', 'dead', 'dead body', 'deadly', 'deaf', 'deal', 'dealer', 'dealing', 'dealt', 'dean', 'dear', 'death', 'death scene', 'debate', 'debbie', 'debt', 'debut', 'decade', 'deceased', 'decent', 'decide', 'decided', 'decided watch', 'decides', 'decision', 'decline', 'dedicated', 'dee', 'deed', 'deep', 'deeper', 'deeply', 'deer', 'defeat', 'defeated', 'defend', 'defense', 'defined', 'definite', 'definitely', 'definitely one', 'definitely worth', 'definition', 'degree', 'del', 'deleted', 'deliberately', 'delicate', 'delight', 'delightful', 'deliver', 'delivered', 'delivering', 'delivers', 'delivery', 'demand', 'demanding', 'demented', 'demise', 'demon', 'demonic', 'demonstrates', 'dennis', 'dentist', 'denzel', 'department', 'depending', 'depicted', 'depicting', 'depiction', 'depicts', 'depressed', 'depressing', 'depression', 'depth', 'deputy', 'deranged', 'derek', 'derivative', 'descent', 'describe', 'described', 'describes', 'describing', 'description', 'desert', 'deserted', 'deserve', 'deserved', 'deserves', 'design', 'designed', 'designer', 'desire', 'desired', 'despair', 'desperate', 'desperately', 'desperation', 'despite', 'despite fact', 'destination', 'destiny', 'destroy', 'destroyed', 'destroying', 'destroys', 'destruction', 'detail', 'detailed', 'detective', 'determined', 'develop', 'developed', 'developing', 'development', 'develops', 'device', 'devil', 'devito', 'devoid', 'devoted', 'dialog', 'dialogue', 'dialogue wa', 'diamond', 'diana', 'diane', 'diary', 'diaz', 'dick', 'dickens', 'die', 'die hard', 'died', 'difference', 'different', 'different movie', 'differently', 'difficult', 'difficulty', 'dig', 'digital', 'dignity', 'dilemma', 'dillon', 'dim', 'dimension', 'dimensional', 'dinner', 'dinosaur', 'dire', 'direct', 'direct video', 'directed', 'directing', 'direction', 'direction wa', 'directly', 'director', 'director ha', 'director wa', 'director writer', 'directorial', 'directs', 'dirt', 'dirty', 'dirty harry', 'disagree', 'disappear', 'disappeared', 'disappears', 'disappoint', 'disappointed', 'disappointing', 'disappointment', 'disaster', 'disastrous', 'disbelief', 'disc', 'disco', 'discover', 'discovered', 'discovering', 'discovers', 'discovery', 'discus', 'discussing', 'discussion', 'disease', 'disgrace', 'disguise', 'disgusted', 'disgusting', 'disjointed', 'dislike', 'disliked', 'dismal', 'disney', 'disorder', 'display', 'displayed', 'distance', 'distant', 'distinct', 'distracting', 'distraction', 'distribution', 'disturbed', 'disturbing', 'dive', 'divine', 'divorce', 'dixon', 'doc', 'doctor', 'document', 'documentary', 'doe', 'doe best', 'doe get', 'doe good', 'doe great', 'doe make', 'doe mean', 'doe nothing', 'doe seem', 'doe well', 'doe work', 'dog', 'doll', 'dollar', 'domestic', 'donald', 'donald sutherland', 'done', 'done better', 'done well', 'donna', 'dont', 'doo', 'doom', 'doomed', 'door', 'doris', 'dorothy', 'dose', 'double', 'doubt', 'doug', 'douglas', 'downey', 'downhill', 'downright', 'dozen', 'dr', 'dracula', 'drag', 'dragged', 'dragon', 'drake', 'drama', 'dramatic', 'draw', 'drawing', 'drawn', 'dread', 'dreadful', 'dream', 'dream sequence', 'dreary', 'dreck', 'dress', 'dressed', 'dressing', 'drew', 'drink', 'drinking', 'drive', 'drivel', 'driven', 'driver', 'driving', 'drop', 'dropped', 'dropping', 'drove', 'drug', 'drum', 'drunk', 'drunken', 'dry', 'dub', 'dubbed', 'dubbing', 'duck', 'dud', 'dude', 'due', 'duke', 'dull', 'dumb', 'dump', 'dunne', 'duo', 'dust', 'dutch', 'duty', 'duvall', 'dvd', 'dvd player', 'dvd release', 'dvd wa', 'dwarf', 'dy', 'dying', 'dylan', 'dynamic', 'dysfunctional', 'eager', 'eagle', 'ear', 'earl', 'earlier', 'earlier film', 'early', 'early film', 'earn', 'earned', 'earth', 'ease', 'easier', 'easily', 'east', 'eastern', 'eastwood', 'easy', 'eat', 'eaten', 'eater', 'eating', 'eats', 'ebert', 'eccentric', 'echo', 'ed', 'ed wood', 'eddie', 'eddie murphy', 'edgar', 'edge', 'edge seat', 'edgy', 'edie', 'edit', 'edited', 'editing', 'edition', 'editor', 'educated', 'education', 'educational', 'edward', 'eerie', 'effect', 'effective', 'effectively', 'effort', 'egg', 'ego', 'egyptian', 'eh', 'eight', 'eighty', 'eisenstein', 'either', 'either way', 'el', 'elaborate', 'elderly', 'election', 'electric', 'elegant', 'element', 'elephant', 'elevator', 'eleven', 'elite', 'elizabeth', 'ellen', 'else', 'elsewhere', 'elvira', 'elvis', 'em', 'embarrassed', 'embarrassing', 'embarrassment', 'embrace', 'emerges', 'emily', 'emma', 'emotion', 'emotional', 'emotionally', 'empathy', 'emperor', 'emphasis', 'empire', 'employed', 'employee', 'empty', 'en', 'encounter', 'encourage', 'end', 'end credit', 'end film', 'end movie', 'end one', 'end result', 'end wa', 'endearing', 'ended', 'ending', 'ending movie', 'ending wa', 'endless', 'endure', 'enemy', 'energetic', 'energy', 'engage', 'engaged', 'engaging', 'engine', 'engineer', 'england', 'english', 'engrossing', 'enjoy', 'enjoy film', 'enjoy movie', 'enjoy watching', 'enjoyable', 'enjoyed', 'enjoyed film', 'enjoyed movie', 'enjoying', 'enjoyment', 'enjoys', 'enormous', 'enough', 'enough make', 'ensemble', 'ensues', 'enter', 'entered', 'entering', 'enterprise', 'enters', 'entertain', 'entertained', 'entertaining', 'entertaining film', 'entertaining movie', 'entertainment', 'entertainment value', 'enthusiasm', 'entire', 'entire cast', 'entire film', 'entire movie', 'entirely', 'entitled', 'entry', 'environment', 'epic', 'episode', 'episode wa', 'equal', 'equally', 'equipment', 'equivalent', 'er', 'era', 'eric', 'erika', 'ernest', 'erotic', 'errol', 'error', 'escape', 'escaped', 'especially', 'especially since', 'essence', 'essential', 'essentially', 'established', 'estate', 'et', 'etc', 'etc etc', 'eternal', 'eternity', 'ethan', 'ethnic', 'eugene', 'euro', 'europe', 'european', 'eva', 'evans', 'eve', 'even', 'even bad', 'even better', 'even bother', 'even close', 'even funny', 'even get', 'even good', 'even know', 'even le', 'even make', 'even movie', 'even one', 'even remotely', 'even think', 'even though', 'even try', 'even wa', 'even worse', 'even worth', 'evening', 'event', 'eventual', 'eventually', 'ever', 'ever get', 'ever heard', 'ever made', 'ever saw', 'ever see', 'ever seen', 'ever since', 'ever watched', 'every', 'every character', 'every day', 'every episode', 'every minute', 'every movie', 'every one', 'every scene', 'every single', 'every time', 'every way', 'everybody', 'everyday', 'everyone', 'everyone else', 'everyone ha', 'everyone involved', 'everyone know', 'everything', 'everything else', 'everything movie', 'everything wa', 'everywhere', 'evidence', 'evident', 'evidently', 'evil', 'evil dead', 'evolution', 'ex', 'exact', 'exactly', 'exaggerated', 'examination', 'example', 'excellent', 'excellent film', 'excellent job', 'excellent movie', 'excellent performance', 'except', 'exception', 'exceptional', 'exceptionally', 'excess', 'excessive', 'exchange', 'excited', 'excitement', 'exciting', 'excuse', 'executed', 'execution', 'executive', 'exercise', 'exist', 'existed', 'existence', 'existent', 'exists', 'exit', 'exorcist', 'exotic', 'expect', 'expect much', 'expectation', 'expected', 'expecting', 'expects', 'expedition', 'expense', 'expensive', 'experience', 'experienced', 'experiment', 'experimental', 'expert', 'explain', 'explained', 'explaining', 'explains', 'explanation', 'explicit', 'exploit', 'exploitation', 'exploration', 'explore', 'explored', 'explores', 'exploring', 'explosion', 'explosive', 'expose', 'exposed', 'exposition', 'exposure', 'express', 'expressed', 'expression', 'exquisite', 'extended', 'extent', 'exterior', 'extra', 'extraordinary', 'extreme', 'extremely', 'extremely well', 'eye', 'eye candy', 'eyed', 'fabulous', 'face', 'faced', 'facial', 'facial expression', 'facing', 'fact', 'fact film', 'fact movie', 'fact wa', 'factor', 'factory', 'fade', 'fail', 'failed', 'failing', 'fails', 'failure', 'fair', 'fairly', 'fairy', 'fairy tale', 'faith', 'faithful', 'fake', 'falk', 'fall', 'fall flat', 'fall love', 'fallen', 'falling', 'falling love', 'false', 'fame', 'familiar', 'family', 'family film', 'family friend', 'family member', 'family movie', 'famous', 'fan', 'fan movie', 'fanatic', 'fancy', 'fantastic', 'fantasy', 'far', 'far away', 'far best', 'far better', 'far fetched', 'far superior', 'far worst', 'farce', 'fare', 'farm', 'farmer', 'fascinated', 'fascinating', 'fascination', 'fashion', 'fashioned', 'fast', 'fast forward', 'fast paced', 'faster', 'fat', 'fatal', 'fate', 'father', 'father son', 'father wa', 'fault', 'favor', 'favorite', 'favorite movie', 'favour', 'favourite', 'fbi', 'fear', 'feast', 'feat', 'feature', 'feature film', 'feature length', 'featured', 'featuring', 'fed', 'feed', 'feel', 'feel good', 'feel like', 'feel sorry', 'feeling', 'felix', 'fell', 'fell love', 'fellow', 'felt', 'felt like', 'felt wa', 'female', 'female character', 'female lead', 'feminist', 'femme', 'fence', 'fest', 'festival', 'fetched', 'fever', 'fi', 'fi channel', 'fi movie', 'fiancé', 'fiancée', 'fiction', 'fictional', 'field', 'fifteen', 'fifteen minute', 'fifth', 'fifty', 'fight', 'fight scene', 'fighter', 'fighting', 'figure', 'figured', 'file', 'fill', 'filled', 'filler', 'filling', 'film', 'film acting', 'film actually', 'film almost', 'film also', 'film although', 'film always', 'film anyone', 'film bad', 'film based', 'film begin', 'film best', 'film better', 'film came', 'film certainly', 'film character', 'film come', 'film could', 'film definitely', 'film director', 'film doe', 'film end', 'film especially', 'film even', 'film ever', 'film every', 'film fact', 'film fan', 'film far', 'film feature', 'film feel', 'film festival', 'film film', 'film first', 'film full', 'film funny', 'film genre', 'film get', 'film give', 'film go', 'film good', 'film got', 'film great', 'film ha', 'film history', 'film however', 'film industry', 'film instead', 'film know', 'film lack', 'film last', 'film least', 'film like', 'film little', 'film look', 'film lot', 'film love', 'film made', 'film make', 'film maker', 'film making', 'film many', 'film may', 'film might', 'film movie', 'film much', 'film must', 'film never', 'film noir', 'film nothing', 'film one', 'film open', 'film people', 'film play', 'film plot', 'film pretty', 'film probably', 'film quite', 'film rather', 'film real', 'film really', 'film saw', 'film say', 'film school', 'film see', 'film seem', 'film seems', 'film seen', 'film set', 'film show', 'film simply', 'film since', 'film star', 'film start', 'film still', 'film story', 'film sure', 'film take', 'film think', 'film though', 'film thought', 'film time', 'film truly', 'film try', 'film two', 'film version', 'film wa', 'film want', 'film watch', 'film way', 'film well', 'film without', 'film work', 'film worth', 'film would', 'film year', 'filmed', 'filming', 'filmmaker', 'filmmaking', 'filth', 'final', 'final scene', 'finale', 'finally', 'finally get', 'financial', 'find', 'find film', 'find movie', 'find one', 'find something', 'find way', 'finding', 'fine', 'fine actor', 'fine job', 'finest', 'finger', 'finish', 'finished', 'fire', 'fired', 'firing', 'firm', 'firmly', 'first', 'first came', 'first episode', 'first film', 'first half', 'first hour', 'first minute', 'first movie', 'first one', 'first part', 'first place', 'first rate', 'first saw', 'first scene', 'first season', 'first thing', 'first time', 'first two', 'first wa', 'firstly', 'fish', 'fisher', 'fist', 'fit', 'fitting', 'five', 'five minute', 'five year', 'fix', 'flag', 'flair', 'flame', 'flash', 'flashback', 'flashy', 'flat', 'flaw', 'flawed', 'flawless', 'flesh', 'flick', 'flight', 'flip', 'floating', 'floor', 'flop', 'florida', 'flow', 'flower', 'fluid', 'fly', 'flying', 'flynn', 'focus', 'focused', 'focusing', 'fog', 'folk', 'follow', 'followed', 'follower', 'following', 'follows', 'fond', 'fonda', 'food', 'fool', 'fooled', 'foolish', 'foot', 'footage', 'football', 'forbidden', 'force', 'forced', 'forcing', 'ford', 'foreign', 'foreign film', 'forest', 'forever', 'forget', 'forgettable', 'forgive', 'forgiven', 'forgot', 'forgotten', 'form', 'format', 'formed', 'former', 'formula', 'formulaic', 'forth', 'fortunately', 'fortune', 'forty', 'forward', 'forward seeing', 'foster', 'fought', 'foul', 'found', 'found film', 'found movie', 'foundation', 'four', 'four year', 'fourth', 'fox', 'foxx', 'frame', 'framed', 'france', 'franchise', 'francis', 'francisco', 'franco', 'frank', 'frank sinatra', 'frankenstein', 'frankie', 'frankly', 'freak', 'fred', 'freddy', 'free', 'freedom', 'freeman', 'freeze', 'french', 'frequent', 'frequently', 'fresh', 'friday', 'friday th', 'friend', 'friendly', 'friendship', 'frightened', 'frightening', 'frog', 'front', 'frost', 'frozen', 'frustrated', 'frustrating', 'frustration', 'fu', 'fulci', 'full', 'full length', 'full moon', 'fuller', 'fully', 'fun', 'fun film', 'fun movie', 'fun watch', 'function', 'fund', 'funding', 'funeral', 'funnier', 'funniest', 'funny', 'funny film', 'funny moment', 'funny movie', 'funny scene', 'funny wa', 'furious', 'furthermore', 'fury', 'future', 'futuristic', 'fx', 'gable', 'gabriel', 'gadget', 'gag', 'gain', 'gained', 'gal', 'galaxy', 'gambling', 'game', 'gamera', 'gandhi', 'gang', 'gangster', 'gap', 'garbage', 'garbo', 'garden', 'garfield', 'gary', 'gas', 'gate', 'gather', 'gave', 'gave movie', 'gay', 'gear', 'geek', 'gem', 'gender', 'gene', 'gene kelly', 'general', 'generally', 'generated', 'generation', 'generic', 'generous', 'genius', 'genre', 'gentle', 'gentleman', 'genuine', 'genuinely', 'george', 'gere', 'german', 'germany', 'gesture', 'get', 'get away', 'get back', 'get better', 'get caught', 'get chance', 'get feeling', 'get good', 'get idea', 'get involved', 'get job', 'get killed', 'get know', 'get little', 'get money', 'get movie', 'get much', 'get one', 'get point', 'get rid', 'get see', 'get shot', 'get started', 'get together', 'get way', 'get worse', 'get wrong', 'getting', 'ghetto', 'ghost', 'ghost story', 'giallo', 'giant', 'gibson', 'gift', 'gifted', 'gilbert', 'gimmick', 'ginger', 'girl', 'girl wa', 'girlfriend', 'give', 'give away', 'give chance', 'give film', 'give good', 'give movie', 'give one', 'given', 'giving', 'glad', 'glance', 'glass', 'glen', 'glenn', 'glimpse', 'global', 'globe', 'gloria', 'glorious', 'glory', 'glover', 'glued', 'go', 'go ahead', 'go along', 'go back', 'go far', 'go get', 'go home', 'go movie', 'go one', 'go see', 'go watch', 'go way', 'go wrong', 'goal', 'god', 'god awful', 'godfather', 'godzilla', 'goer', 'going', 'going back', 'going get', 'going happen', 'going see', 'gold', 'goldberg', 'golden', 'golf', 'gone', 'gonna', 'good', 'good acting', 'good actor', 'good bad', 'good cast', 'good enough', 'good evil', 'good example', 'good film', 'good friend', 'good guy', 'good idea', 'good job', 'good laugh', 'good look', 'good looking', 'good movie', 'good old', 'good one', 'good part', 'good performance', 'good plot', 'good point', 'good reason', 'good see', 'good show', 'good story', 'good thing', 'good time', 'good wa', 'good way', 'good well', 'goodbye', 'goodness', 'goof', 'goofy', 'gordon', 'gore', 'gorgeous', 'gorilla', 'gory', 'got', 'got see', 'got wa', 'gothic', 'gotta', 'gotten', 'government', 'grab', 'grace', 'grade', 'gradually', 'graduate', 'graham', 'grainy', 'grand', 'grandfather', 'grandma', 'grandmother', 'grant', 'granted', 'graphic', 'grasp', 'grass', 'gratuitous', 'grave', 'gray', 'great', 'great acting', 'great actor', 'great cast', 'great character', 'great deal', 'great film', 'great fun', 'great job', 'great movie', 'great music', 'great one', 'great performance', 'great scene', 'great see', 'great show', 'great story', 'greater', 'greatest', 'greatly', 'greatness', 'greed', 'greedy', 'greek', 'green', 'greg', 'gregory', 'grew', 'grey', 'grief', 'griffith', 'grim', 'grip', 'gripping', 'gritty', 'gross', 'grotesque', 'ground', 'group', 'grow', 'growing', 'grown', 'grows', 'grudge', 'gruesome', 'gu', 'guarantee', 'guaranteed', 'guard', 'guess', 'guess wa', 'guessed', 'guessing', 'guest', 'guide', 'guilt', 'guilty', 'guilty pleasure', 'guitar', 'gun', 'gut', 'guy', 'guy get', 'guy ha', 'guy wa', 'gypsy', 'ha', 'ha already', 'ha always', 'ha become', 'ha changed', 'ha come', 'ha done', 'ha ever', 'ha everything', 'ha given', 'ha gone', 'ha good', 'ha got', 'ha great', 'ha ha', 'ha left', 'ha little', 'ha lost', 'ha lot', 'ha made', 'ha many', 'ha moment', 'ha much', 'ha never', 'ha nothing', 'ha one', 'ha really', 'ha said', 'ha seen', 'ha something', 'ha taken', 'ha two', 'habit', 'hack', 'hackneyed', 'haines', 'hair', 'haired', 'hal', 'half', 'half film', 'half hour', 'half movie', 'half way', 'halfway', 'hall', 'hallmark', 'halloween', 'ham', 'hamilton', 'hamlet', 'hammer', 'hammy', 'han', 'hand', 'hand held', 'handed', 'handful', 'handle', 'handled', 'handling', 'handsome', 'hang', 'hanging', 'hank', 'happen', 'happened', 'happening', 'happens', 'happily', 'happiness', 'happy', 'happy ending', 'hard', 'hard believe', 'hard find', 'hard time', 'hardcore', 'harder', 'hardly', 'hardy', 'harm', 'harmless', 'harold', 'harris', 'harrison', 'harry', 'harsh', 'hart', 'hartley', 'harvey', 'hat', 'hate', 'hate movie', 'hated', 'hatred', 'haunt', 'haunted', 'haunting', 'hawk', 'hayes', 'hayworth', 'hbo', 'head', 'headed', 'heading', 'health', 'healthy', 'heap', 'hear', 'heard', 'hearing', 'hears', 'heart', 'heartbreaking', 'hearted', 'heartfelt', 'heartwarming', 'heat', 'heather', 'heaven', 'heavily', 'heavy', 'heavy handed', 'heck', 'heel', 'height', 'heist', 'held', 'helen', 'helicopter', 'hell', 'hell wa', 'hello', 'help', 'helped', 'helping', 'helpless', 'hence', 'henchman', 'henry', 'hepburn', 'hercules', 'hero', 'heroic', 'heroin', 'heroine', 'herzog', 'heston', 'hey', 'hi', 'hidden', 'hide', 'hideous', 'hiding', 'high', 'high school', 'higher', 'highest', 'highlight', 'highly', 'highly recommend', 'highly recommended', 'hilarious', 'hilariously', 'hilarity', 'hill', 'hilton', 'hindi', 'hint', 'hip', 'hip hop', 'hippie', 'hippy', 'hire', 'hired', 'historic', 'historical', 'historically', 'history', 'hit', 'hit man', 'hitch', 'hitchcock', 'hitler', 'hitting', 'ho', 'hoffman', 'hogan', 'hokey', 'hold', 'holding', 'hole', 'holiday', 'hollow', 'holly', 'hollywood', 'hollywood film', 'hollywood movie', 'holmes', 'holocaust', 'holy', 'homage', 'home', 'home movie', 'home video', 'homeless', 'homer', 'homicide', 'homosexual', 'homosexuality', 'honest', 'honestly', 'honesty', 'hong', 'hong kong', 'honor', 'hood', 'hook', 'hooked', 'hooker', 'hoot', 'hop', 'hope', 'hoped', 'hopefully', 'hopeless', 'hopelessly', 'hoping', 'hopkins', 'hopper', 'horn', 'horrendous', 'horrible', 'horrible acting', 'horrible movie', 'horribly', 'horrid', 'horrific', 'horrifying', 'horror', 'horror fan', 'horror film', 'horror flick', 'horror genre', 'horror movie', 'horse', 'hospital', 'host', 'hostage', 'hot', 'hotel', 'hour', 'hour film', 'hour half', 'hour life', 'hour long', 'hour movie', 'house', 'household', 'housewife', 'howard', 'however', 'however film', 'however movie', 'however wa', 'http', 'hudson', 'huge', 'huge fan', 'hugely', 'hugh', 'hughes', 'huh', 'hulk', 'human', 'humanity', 'humble', 'humor', 'humorous', 'humour', 'hundred', 'hung', 'hungry', 'hunt', 'hunter', 'hunting', 'hurt', 'husband', 'huston', 'hybrid', 'hyde', 'hype', 'hyped', 'hysterical', 'ian', 'ice', 'icon', 'idea', 'idea movie', 'idea wa', 'ideal', 'identical', 'identify', 'identity', 'idiot', 'idiotic', 'idol', 'ie', 'ignorance', 'ignorant', 'ignore', 'ignored', 'ii', 'iii', 'ill', 'illegal', 'illness', 'illogical', 'illusion', 'im', 'image', 'imagery', 'imaginable', 'imaginary', 'imagination', 'imaginative', 'imagine', 'imagined', 'imdb', 'imitation', 'immediate', 'immediately', 'immensely', 'immigrant', 'impact', 'implausible', 'implied', 'importance', 'important', 'importantly', 'impossible', 'impress', 'impressed', 'impression', 'impressive', 'improve', 'improved', 'improvement', 'inability', 'inaccurate', 'inane', 'inappropriate', 'incapable', 'inch', 'incident', 'incidentally', 'include', 'included', 'includes', 'including', 'incoherent', 'incompetent', 'incomprehensible', 'inconsistent', 'increase', 'increasingly', 'incredible', 'incredibly', 'indeed', 'independence', 'independent', 'independent film', 'india', 'indian', 'indication', 'indie', 'individual', 'inducing', 'indulgent', 'industrial', 'industry', 'inept', 'inevitable', 'inevitably', 'inexplicably', 'infamous', 'infected', 'inferior', 'influence', 'influenced', 'info', 'information', 'informative', 'ingenious', 'ingredient', 'ingrid', 'inhabitant', 'inherent', 'initial', 'initially', 'injured', 'injury', 'inmate', 'inner', 'innocence', 'innocent', 'innovative', 'insane', 'insanity', 'inside', 'insight', 'insightful', 'insipid', 'insists', 'inspector', 'inspiration', 'inspire', 'inspired', 'inspiring', 'installment', 'instance', 'instant', 'instantly', 'instead', 'instinct', 'institution', 'instrument', 'insult', 'insulting', 'insurance', 'integrity', 'intellectual', 'intelligence', 'intelligent', 'intended', 'intense', 'intensity', 'intent', 'intention', 'intentional', 'intentionally', 'interaction', 'interest', 'interested', 'interesting', 'interesting character', 'interesting film', 'interesting movie', 'interesting see', 'interesting story', 'interestingly', 'interior', 'internal', 'international', 'international film', 'internet', 'interpretation', 'interview', 'intimate', 'intrigue', 'intrigued', 'intriguing', 'intro', 'introduce', 'introduced', 'introduces', 'introduction', 'invasion', 'invented', 'invention', 'inventive', 'investigate', 'investigating', 'investigation', 'investigator', 'invisible', 'invite', 'invited', 'involve', 'involved', 'involvement', 'involves', 'involving', 'iraq', 'ireland', 'irene', 'irish', 'iron', 'ironic', 'ironically', 'irony', 'irrelevant', 'irritating', 'ish', 'island', 'isolated', 'israel', 'israeli', 'issue', 'italian', 'italy', 'item', 'iv', 'jack', 'jack frost', 'jackass', 'jacket', 'jackie', 'jackie chan', 'jackson', 'jaded', 'jail', 'jake', 'james', 'james bond', 'james stewart', 'jamie', 'jane', 'jane austen', 'japan', 'japanese', 'jarring', 'jason', 'jaw', 'jay', 'jazz', 'jealous', 'jealousy', 'jean', 'jeff', 'jeffrey', 'jennifer', 'jenny', 'jeremy', 'jerk', 'jerry', 'jesse', 'jessica', 'jesus', 'jet', 'jew', 'jewel', 'jewish', 'jim', 'jim carrey', 'jimmy', 'joan', 'job', 'jock', 'joe', 'joel', 'joey', 'john', 'john carpenter', 'john ford', 'john wayne', 'johnny', 'johnson', 'join', 'joined', 'joke', 'jon', 'jonathan', 'jones', 'jordan', 'joseph', 'josh', 'journalist', 'journey', 'joy', 'jr', 'judge', 'judging', 'judgment', 'judy', 'julia', 'julian', 'julie', 'juliet', 'jump', 'jumped', 'jumping', 'june', 'jungle', 'junior', 'junk', 'justice', 'justify', 'justin', 'juvenile', 'kahn', 'kane', 'kapoor', 'karate', 'karen', 'karl', 'karloff', 'kate', 'kathy', 'kay', 'keaton', 'keen', 'keep', 'keep watching', 'keeping', 'keith', 'kelly', 'ken', 'kennedy', 'kenneth', 'kept', 'kevin', 'key', 'khan', 'kick', 'kicked', 'kicking', 'kid', 'kid movie', 'kidding', 'kidman', 'kidnapped', 'kidnapping', 'kill', 'kill people', 'killed', 'killer', 'killing', 'killing people', 'kim', 'kind', 'kind film', 'kind movie', 'kind thing', 'kinda', 'king', 'kingdom', 'kirk', 'kiss', 'kissing', 'kitchen', 'kitty', 'knee', 'knew', 'knew wa', 'knife', 'knight', 'knock', 'knocked', 'know', 'know anything', 'know expect', 'know film', 'know going', 'know movie', 'know much', 'know nothing', 'know one', 'know people', 'know wa', 'knowing', 'knowledge', 'known', 'kong', 'korean', 'kubrick', 'kudos', 'kung', 'kung fu', 'kurt', 'kurtz', 'kyle', 'la', 'la vega', 'lab', 'label', 'labor', 'lack', 'lacked', 'lacking', 'lackluster', 'ladder', 'lady', 'laid', 'lake', 'lame', 'lance', 'land', 'landing', 'landscape', 'lane', 'language', 'large', 'largely', 'larger', 'larry', 'last', 'last film', 'last minute', 'last night', 'last scene', 'last time', 'last year', 'lasted', 'lasting', 'lastly', 'late', 'late night', 'lately', 'later', 'later film', 'latest', 'latin', 'latter', 'laugh', 'laugh loud', 'laughable', 'laughably', 'laughed', 'laughing', 'laughter', 'laura', 'laurel', 'laurel hardy', 'lauren', 'law', 'lawrence', 'lawyer', 'lay', 'layer', 'lazy', 'le', 'lead', 'lead actor', 'lead character', 'lead role', 'leader', 'leading', 'leading lady', 'leading man', 'leaf', 'league', 'lean', 'leap', 'learn', 'learned', 'learning', 'learns', 'least', 'least bit', 'least one', 'least wa', 'leather', 'leave', 'leaving', 'led', 'lee', 'left', 'left behind', 'leg', 'legacy', 'legal', 'legend', 'legendary', 'leigh', 'lemmon', 'lena', 'length', 'lengthy', 'lens', 'leo', 'leon', 'leonard', 'lesbian', 'leslie', 'lesser', 'lesson', 'lester', 'let', 'let alone', 'let face', 'let get', 'let go', 'let know', 'let say', 'let see', 'let start', 'lethal', 'letter', 'letting', 'level', 'lewis', 'li', 'liar', 'liberal', 'liberty', 'library', 'license', 'lie', 'life', 'life ha', 'life like', 'life one', 'life story', 'life wa', 'lifeless', 'lifestyle', 'lifetime', 'lift', 'lifted', 'light', 'light hearted', 'lighting', 'likable', 'like', 'like bad', 'like character', 'like could', 'like film', 'like first', 'like get', 'like good', 'like know', 'like many', 'like movie', 'like much', 'like one', 'like people', 'like real', 'like really', 'like said', 'like say', 'like see', 'like show', 'like someone', 'like something', 'like think', 'like wa', 'like watch', 'like watching', 'like would', 'liked', 'liked film', 'liked movie', 'likely', 'likewise', 'liking', 'lily', 'limit', 'limited', 'lincoln', 'linda', 'line', 'line film', 'line movie', 'line wa', 'liner', 'link', 'lion', 'lion king', 'lionel', 'lip', 'lisa', 'list', 'listed', 'listen', 'listening', 'lit', 'literally', 'literary', 'literature', 'little', 'little bit', 'little boy', 'little film', 'little girl', 'little kid', 'little movie', 'live', 'live action', 'lived', 'lively', 'living', 'living dead', 'lizard', 'lloyd', 'load', 'loaded', 'local', 'locale', 'locate', 'located', 'location', 'lock', 'locked', 'logan', 'logic', 'logical', 'lol', 'london', 'lone', 'loneliness', 'lonely', 'long', 'long ago', 'long enough', 'long time', 'longer', 'look', 'look film', 'look forward', 'look good', 'look great', 'look like', 'looked', 'looked like', 'looking', 'looking forward', 'looking like', 'looking movie', 'loose', 'loosely', 'lord', 'lord ring', 'los', 'los angeles', 'lose', 'loser', 'loses', 'losing', 'loss', 'lost', 'lot', 'lot better', 'lot film', 'lot fun', 'lot like', 'lot movie', 'lot people', 'lot time', 'lou', 'loud', 'louis', 'louise', 'lousy', 'lovable', 'love', 'love affair', 'love film', 'love hate', 'love interest', 'love life', 'love movie', 'love one', 'love scene', 'love see', 'love show', 'love story', 'loved', 'loved movie', 'loved one', 'lovely', 'lover', 'loving', 'low', 'low budget', 'low key', 'lower', 'lowest', 'loy', 'loyal', 'loyalty', 'lucas', 'luck', 'luckily', 'lucky', 'lucy', 'ludicrous', 'lugosi', 'luke', 'lunch', 'lush', 'lust', 'lying', 'lynch', 'lyric', 'macbeth', 'machine', 'machine gun', 'macho', 'macy', 'mad', 'mad scientist', 'made', 'made even', 'made feel', 'made film', 'made good', 'made laugh', 'made look', 'made movie', 'made one', 'made sense', 'made think', 'made tv', 'made wa', 'made want', 'madness', 'madonna', 'madsen', 'mafia', 'magazine', 'maggie', 'magic', 'magical', 'magnificent', 'maid', 'mail', 'main', 'main actor', 'main character', 'main plot', 'main problem', 'main reason', 'mainly', 'mainstream', 'maintain', 'major', 'majority', 'make', 'make better', 'make character', 'make even', 'make feel', 'make film', 'make fun', 'make good', 'make great', 'make interesting', 'make laugh', 'make look', 'make mistake', 'make money', 'make movie', 'make much', 'make one', 'make people', 'make point', 'make seem', 'make sense', 'make sure', 'make thing', 'make think', 'make want', 'make way', 'make wonder', 'maker', 'makeup', 'making', 'making film', 'making movie', 'male', 'mall', 'mama', 'man', 'man ha', 'man wa', 'manage', 'managed', 'manager', 'manages', 'manhattan', 'maniac', 'manipulative', 'mankind', 'mann', 'manner', 'mannerism', 'mansion', 'many', 'many character', 'many different', 'many film', 'many great', 'many level', 'many many', 'many movie', 'many others', 'many people', 'many scene', 'many thing', 'many time', 'many way', 'many year', 'map', 'mar', 'march', 'margaret', 'maria', 'marie', 'marine', 'mario', 'marion', 'mark', 'marked', 'market', 'marketing', 'marriage', 'married', 'marries', 'marry', 'marshall', 'martha', 'martial', 'martial art', 'martian', 'martin', 'marty', 'marvel', 'marvelous', 'mary', 'mask', 'mason', 'mass', 'massacre', 'massive', 'master', 'masterful', 'masterpiece', 'match', 'matched', 'mate', 'material', 'matrix', 'matt', 'matter', 'matthau', 'matthew', 'mature', 'max', 'may', 'may find', 'may seem', 'may well', 'maybe', 'maybe even', 'maybe wa', 'mayhem', 'mayor', 'mccoy', 'meal', 'mean', 'meaning', 'meaningful', 'meaningless', 'meant', 'meantime', 'meanwhile', 'measure', 'meat', 'medical', 'medicine', 'mediocre', 'medium', 'meet', 'meeting', 'meg', 'mel', 'melodrama', 'melodramatic', 'melody', 'member', 'memorable', 'memory', 'men', 'men woman', 'menace', 'menacing', 'mencia', 'mental', 'mentality', 'mentally', 'mention', 'mentioned', 'mentioning', 'merchant', 'mercy', 'mere', 'merely', 'merit', 'meryl', 'meryl streep', 'mesmerizing', 'mess', 'message', 'messed', 'met', 'metal', 'metaphor', 'method', 'mexican', 'mexico', 'mgm', 'mi', 'michael', 'michael caine', 'michael jackson', 'michelle', 'mickey', 'mid', 'middle', 'middle aged', 'middle class', 'midnight', 'might', 'might find', 'might think', 'might well', 'mighty', 'miike', 'mike', 'mild', 'mildly', 'mildred', 'mile', 'mile away', 'military', 'milk', 'mill', 'miller', 'million', 'million dollar', 'millionaire', 'milo', 'min', 'mind', 'minded', 'mindless', 'mine', 'miner', 'mini', 'mini series', 'minimal', 'minimum', 'miniseries', 'minister', 'minor', 'minority', 'minus', 'minute', 'minute film', 'minute life', 'minute long', 'minute movie', 'minute wa', 'miracle', 'mirror', 'miscast', 'miserable', 'miserably', 'misery', 'misleading', 'miss', 'missed', 'missile', 'missing', 'mission', 'mistake', 'mistaken', 'mistress', 'mitchell', 'mitchum', 'mix', 'mixed', 'mixing', 'mixture', 'miyazaki', 'mm', 'mob', 'mobster', 'mock', 'mode', 'model', 'modern', 'modern day', 'modest', 'modesty', 'moe', 'molly', 'mom', 'moment', 'moment film', 'moment movie', 'money', 'money back', 'monk', 'monkey', 'monologue', 'monster', 'montage', 'montana', 'montgomery', 'month', 'monty', 'mood', 'moody', 'moon', 'moore', 'moral', 'morality', 'morally', 'morbid', 'moreover', 'morgan', 'morgan freeman', 'mormon', 'morning', 'moron', 'moronic', 'morris', 'mostly', 'mother', 'motif', 'motion', 'motion picture', 'motivation', 'motive', 'motorcycle', 'mountain', 'mouse', 'mouth', 'move', 'move along', 'moved', 'movement', 'movie', 'movie absolutely', 'movie acting', 'movie actor', 'movie actually', 'movie almost', 'movie also', 'movie although', 'movie always', 'movie anyone', 'movie bad', 'movie based', 'movie best', 'movie better', 'movie big', 'movie called', 'movie came', 'movie certainly', 'movie character', 'movie come', 'movie could', 'movie definitely', 'movie deserves', 'movie director', 'movie doe', 'movie end', 'movie especially', 'movie even', 'movie ever', 'movie every', 'movie everyone', 'movie fact', 'movie fan', 'movie far', 'movie feel', 'movie felt', 'movie film', 'movie find', 'movie first', 'movie found', 'movie fun', 'movie funny', 'movie genre', 'movie get', 'movie give', 'movie go', 'movie going', 'movie good', 'movie got', 'movie great', 'movie ha', 'movie however', 'movie kid', 'movie kind', 'movie know', 'movie last', 'movie least', 'movie let', 'movie like', 'movie little', 'movie long', 'movie look', 'movie lot', 'movie love', 'movie made', 'movie make', 'movie making', 'movie many', 'movie may', 'movie maybe', 'movie mean', 'movie might', 'movie movie', 'movie much', 'movie must', 'movie need', 'movie never', 'movie nothing', 'movie one', 'movie people', 'movie play', 'movie plot', 'movie pretty', 'movie probably', 'movie quite', 'movie read', 'movie real', 'movie really', 'movie right', 'movie saw', 'movie say', 'movie see', 'movie seemed', 'movie seems', 'movie seen', 'movie set', 'movie show', 'movie simply', 'movie since', 'movie star', 'movie start', 'movie started', 'movie still', 'movie story', 'movie suck', 'movie supposed', 'movie sure', 'movie take', 'movie tell', 'movie terrible', 'movie theater', 'movie thing', 'movie think', 'movie though', 'movie thought', 'movie time', 'movie try', 'movie tv', 'movie two', 'movie wa', 'movie want', 'movie watch', 'movie watched', 'movie watching', 'movie way', 'movie well', 'movie whole', 'movie without', 'movie work', 'movie worth', 'movie would', 'movie year', 'moving', 'mr', 'mst', 'mtv', 'much', 'much better', 'much film', 'much fun', 'much le', 'much like', 'much movie', 'much much', 'much time', 'much wa', 'much worse', 'muddled', 'multi', 'multiple', 'mum', 'mummy', 'mundane', 'muppet', 'muppets', 'murder', 'murder mystery', 'murdered', 'murderer', 'murdering', 'murderous', 'murphy', 'murray', 'museum', 'music', 'music score', 'music video', 'music wa', 'musical', 'musical number', 'musical score', 'musician', 'muslim', 'must', 'must admit', 'must say', 'must see', 'must watch', 'mutant', 'mute', 'myers', 'mysterious', 'mystery', 'myth', 'nail', 'naive', 'naked', 'name', 'name wa', 'named', 'namely', 'nancy', 'narration', 'narrative', 'narrator', 'narrow', 'nasty', 'natalie', 'nation', 'national', 'native', 'native american', 'natural', 'naturally', 'nature', 'navy', 'nazi', 'nbc', 'nd', 'near', 'near end', 'nearby', 'nearly', 'neat', 'necessarily', 'necessary', 'neck', 'ned', 'need', 'need see', 'needed', 'needle', 'needle say', 'negative', 'neighbor', 'neighborhood', 'neighbour', 'neil', 'neill', 'neither', 'nelson', 'nemesis', 'neo', 'nephew', 'nerd', 'nerve', 'nervous', 'net', 'network', 'never', 'never even', 'never ever', 'never get', 'never got', 'never heard', 'never know', 'never let', 'never made', 'never mind', 'never quite', 'never really', 'never saw', 'never see', 'never seen', 'never thought', 'nevertheless', 'new', 'new life', 'new orleans', 'new york', 'newcomer', 'newly', 'newman', 'news', 'newspaper', 'next', 'next day', 'next door', 'next time', 'nice', 'nice guy', 'nice see', 'nicely', 'nicholas', 'nicholson', 'nick', 'nicole', 'niece', 'night', 'night wa', 'nightclub', 'nightmare', 'nine', 'ninety', 'ninja', 'niro', 'noble', 'nobody', 'nod', 'noir', 'noise', 'nolan', 'nolte', 'nominated', 'nomination', 'non', 'non existent', 'non stop', 'none', 'none character', 'nonetheless', 'nonsense', 'nonsensical', 'nope', 'norm', 'normal', 'normally', 'norman', 'norris', 'north', 'northern', 'norton', 'nose', 'nostalgia', 'nostalgic', 'notable', 'notably', 'notch', 'note', 'noted', 'nothing', 'nothing else', 'nothing happens', 'nothing like', 'nothing movie', 'nothing new', 'nothing really', 'nothing special', 'nothing wrong', 'notice', 'noticed', 'notion', 'notorious', 'novel', 'nowadays', 'nowhere', 'nowhere near', 'nuance', 'nuclear', 'nude', 'nudity', 'number', 'number one', 'numerous', 'nun', 'nurse', 'nut', 'nyc', 'object', 'objective', 'obligatory', 'obnoxious', 'obscure', 'observation', 'obsessed', 'obsession', 'obstacle', 'obvious', 'obviously', 'occasion', 'occasional', 'occasionally', 'occur', 'occurred', 'occurs', 'ocean', 'odd', 'oddly', 'odds', 'odyssey', 'offended', 'offensive', 'offer', 'offered', 'offering', 'office', 'officer', 'official', 'offs', 'often', 'oh', 'oh god', 'oh well', 'oh yeah', 'oil', 'ok', 'okay', 'old', 'old boy', 'old fashioned', 'old friend', 'old lady', 'old man', 'old movie', 'old school', 'old woman', 'older', 'oliver', 'olivia', 'olivier', 'one', 'one another', 'one bad', 'one best', 'one better', 'one big', 'one character', 'one could', 'one day', 'one dimensional', 'one doe', 'one else', 'one episode', 'one even', 'one ever', 'one favorite', 'one favourite', 'one film', 'one finest', 'one first', 'one funniest', 'one get', 'one girl', 'one go', 'one good', 'one great', 'one greatest', 'one guy', 'one ha', 'one hand', 'one kind', 'one know', 'one last', 'one like', 'one liner', 'one main', 'one make', 'one man', 'one many', 'one might', 'one moment', 'one movie', 'one must', 'one night', 'one one', 'one person', 'one point', 'one really', 'one reason', 'one scene', 'one see', 'one star', 'one take', 'one thing', 'one think', 'one time', 'one two', 'one wa', 'one watch', 'one way', 'one well', 'one wonder', 'one word', 'one worst', 'one would', 'one year', 'online', 'onto', 'open', 'open mind', 'opened', 'opening', 'opening credit', 'opening scene', 'opening sequence', 'opera', 'operation', 'opinion', 'opponent', 'opportunity', 'opposed', 'opposite', 'option', 'orange', 'order', 'ordered', 'ordinary', 'organization', 'oriented', 'origin', 'original', 'original film', 'original movie', 'original story', 'original wa', 'originality', 'originally', 'orleans', 'orson', 'oscar', 'oscar nomination', 'others', 'otherwise', 'ought', 'outcome', 'outer', 'outer space', 'outfit', 'outing', 'outlaw', 'outline', 'outrageous', 'outside', 'outstanding', 'overacting', 'overall', 'overall film', 'overall movie', 'overcome', 'overdone', 'overlong', 'overlook', 'overlooked', 'overly', 'overrated', 'overwhelming', 'owen', 'owned', 'owner', 'owns', 'oz', 'pace', 'paced', 'pacing', 'pacino', 'pack', 'package', 'packed', 'page', 'paid', 'pain', 'painful', 'painful watch', 'painfully', 'paint', 'painted', 'painter', 'painting', 'pair', 'pal', 'palace', 'pale', 'pam', 'pan', 'panic', 'pant', 'paper', 'par', 'parade', 'paradise', 'parallel', 'paramount', 'paranoia', 'paranormal', 'parent', 'paris', 'park', 'parker', 'parody', 'part', 'part film', 'part movie', 'part one', 'part story', 'part wa', 'partially', 'particular', 'particularly', 'partly', 'partner', 'party', 'pas', 'pass', 'passable', 'passage', 'passed', 'passenger', 'passing', 'passion', 'passionate', 'past', 'past year', 'pat', 'path', 'pathetic', 'patience', 'patient', 'patricia', 'patrick', 'pattern', 'paul', 'paulie', 'pause', 'paxton', 'pay', 'pay attention', 'paying', 'pc', 'peace', 'peak', 'pearl', 'peck', 'penguin', 'penn', 'penny', 'people', 'people actually', 'people get', 'people involved', 'people know', 'people like', 'people made', 'people movie', 'people really', 'people say', 'people see', 'people think', 'people want', 'people watch', 'people would', 'per', 'perception', 'perfect', 'perfect example', 'perfection', 'perfectly', 'perform', 'performance', 'performance film', 'performance movie', 'performance wa', 'performed', 'performer', 'performing', 'performs', 'perhaps', 'perhaps wa', 'period', 'period piece', 'perry', 'person', 'persona', 'personal', 'personality', 'personally', 'personally think', 'perspective', 'pet', 'pete', 'peter', 'peter falk', 'petty', 'pg', 'phantom', 'phenomenon', 'phil', 'philip', 'phillip', 'phillips', 'philosophical', 'philosophy', 'phone', 'phone call', 'phony', 'photo', 'photograph', 'photographed', 'photographer', 'photography', 'phrase', 'physical', 'physically', 'piano', 'pick', 'picked', 'picking', 'picture', 'picture wa', 'pie', 'piece', 'piece crap', 'piece garbage', 'piece work', 'pierre', 'pig', 'pile', 'pilot', 'pimp', 'pin', 'pink', 'piper', 'pirate', 'pit', 'pitch', 'pitiful', 'pitt', 'pity', 'place', 'placed', 'plague', 'plain', 'plan', 'plane', 'planet', 'planned', 'planning', 'plant', 'plastic', 'plate', 'plausible', 'play', 'play like', 'play part', 'play role', 'playboy', 'played', 'player', 'playing', 'pleasant', 'pleasantly', 'pleasantly surprised', 'please', 'pleased', 'pleasing', 'pleasure', 'plenty', 'plight', 'plot', 'plot character', 'plot development', 'plot device', 'plot film', 'plot ha', 'plot hole', 'plot line', 'plot movie', 'plot point', 'plot twist', 'plot wa', 'plus', 'pocket', 'poe', 'poem', 'poetic', 'poetry', 'poignant', 'point', 'point film', 'point movie', 'point view', 'point wa', 'pointed', 'pointless', 'poison', 'poke', 'poker', 'polanski', 'pole', 'police', 'police officer', 'policeman', 'policy', 'polish', 'polished', 'political', 'politically', 'politician', 'politics', 'ponyo', 'pool', 'poor', 'poor acting', 'poorly', 'poorly done', 'poorly written', 'pop', 'popcorn', 'popping', 'popular', 'popularity', 'population', 'porn', 'porno', 'portion', 'portman', 'portrait', 'portray', 'portrayal', 'portrayed', 'portraying', 'portrays', 'pose', 'position', 'positive', 'positively', 'posse', 'possessed', 'possession', 'possibility', 'possible', 'possibly', 'post', 'posted', 'poster', 'pot', 'potential', 'potentially', 'pound', 'poverty', 'powell', 'power', 'powerful', 'practically', 'practice', 'praise', 'prank', 'pray', 'pre', 'preachy', 'precious', 'precisely', 'predator', 'predecessor', 'predict', 'predictable', 'prefer', 'preferred', 'pregnant', 'prejudice', 'premiere', 'preminger', 'premise', 'prepare', 'prepared', 'preposterous', 'prequel', 'presence', 'present', 'present day', 'presentation', 'presented', 'presenting', 'president', 'press', 'pressure', 'presumably', 'pretend', 'pretending', 'pretentious', 'pretty', 'pretty bad', 'pretty cool', 'pretty funny', 'pretty good', 'pretty much', 'pretty sure', 'pretty well', 'prevent', 'preview', 'previous', 'previous film', 'previously', 'prey', 'price', 'priceless', 'pride', 'priest', 'primarily', 'primary', 'prime', 'primitive', 'prince', 'princess', 'principal', 'principle', 'print', 'prior', 'prison', 'prisoner', 'private', 'prize', 'pro', 'probably', 'probably best', 'probably one', 'probably would', 'problem', 'problem film', 'problem movie', 'problem wa', 'proceeding', 'proceeds', 'process', 'produce', 'produced', 'producer', 'producer director', 'producing', 'product', 'production', 'production value', 'production wa', 'prof', 'profanity', 'profession', 'professional', 'professor', 'profit', 'profound', 'program', 'programme', 'progress', 'project', 'prom', 'prominent', 'promise', 'promised', 'promising', 'promote', 'proof', 'prop', 'propaganda', 'proper', 'properly', 'property', 'proportion', 'prostitute', 'protagonist', 'protect', 'proud', 'prove', 'proved', 'provide', 'provided', 'provides', 'providing', 'proving', 'provocative', 'provoking', 'pseudo', 'psyche', 'psychiatrist', 'psychic', 'psycho', 'psychological', 'psychology', 'psychopath', 'psychotic', 'public', 'publicity', 'pull', 'pulled', 'pulling', 'pulp', 'pulp fiction', 'pun', 'punch', 'punishment', 'punk', 'puppet', 'puppy', 'purchase', 'purchased', 'pure', 'purely', 'purple', 'purpose', 'pursuit', 'push', 'pushed', 'pushing', 'put', 'put film', 'put together', 'putting', 'puzzle', 'python', 'quaid', 'quality', 'quality film', 'quality movie', 'quarter', 'queen', 'quentin', 'quest', 'question', 'questionable', 'quick', 'quickly', 'quiet', 'quietly', 'quinn', 'quirky', 'quit', 'quite', 'quite bit', 'quite funny', 'quite good', 'quite possibly', 'quite well', 'quote', 'rabbit', 'race', 'rachel', 'racial', 'racing', 'racism', 'racist', 'radical', 'radio', 'rage', 'rain', 'rainbow', 'raise', 'raised', 'raising', 'ralph', 'ran', 'randolph', 'random', 'randomly', 'randy', 'range', 'ranger', 'rank', 'rant', 'rap', 'rape', 'raped', 'rapidly', 'rapist', 'rare', 'rarely', 'rat', 'rate', 'rate movie', 'rated', 'rather', 'rating', 'rave', 'raw', 'ray', 'raymond', 'razor', 'rd', 'reach', 'reached', 'reaching', 'react', 'reaction', 'read', 'read book', 'read review', 'reader', 'reading', 'ready', 'real', 'real life', 'real people', 'real story', 'real world', 'realise', 'realised', 'realism', 'realistic', 'reality', 'realization', 'realize', 'realized', 'realizes', 'realizing', 'really', 'really bad', 'really care', 'really cool', 'really doe', 'really enjoyed', 'really feel', 'really funny', 'really get', 'really good', 'really got', 'really great', 'really hard', 'really know', 'really like', 'really liked', 'really love', 'really made', 'really make', 'really much', 'really need', 'really really', 'really see', 'really think', 'really wa', 'really want', 'really wanted', 'really well', 'really worth', 'realm', 'rear', 'reason', 'reason film', 'reason movie', 'reason see', 'reason watch', 'reasonable', 'reasonably', 'rebel', 'recall', 'receive', 'received', 'receives', 'receiving', 'recent', 'recently', 'recognition', 'recognizable', 'recognize', 'recognized', 'recommend', 'recommend anyone', 'recommend film', 'recommend movie', 'recommendation', 'recommended', 'record', 'recorded', 'recording', 'recruit', 'recycled', 'red', 'redeem', 'redeeming', 'redeeming feature', 'redeeming quality', 'redemption', 'redneck', 'reduced', 'reed', 'reef', 'reel', 'refer', 'reference', 'referred', 'referring', 'refers', 'reflect', 'reflection', 'reflects', 'refreshing', 'refuse', 'refused', 'regard', 'regarded', 'regarding', 'regardless', 'region', 'regret', 'regular', 'reign', 'reject', 'rejected', 'relate', 'related', 'relation', 'relationship', 'relative', 'relatively', 'relax', 'release', 'released', 'released dvd', 'relevant', 'relief', 'relies', 'religion', 'religious', 'reluctant', 'rely', 'remade', 'remain', 'remained', 'remaining', 'remains', 'remake', 'remark', 'remarkable', 'remarkably', 'remember', 'remember seeing', 'remember wa', 'remembered', 'remind', 'reminded', 'reminder', 'reminds', 'reminiscent', 'remote', 'remotely', 'remove', 'removed', 'render', 'rendered', 'rendition', 'rent', 'rent movie', 'rental', 'rented', 'rented movie', 'renting', 'repeat', 'repeated', 'repeatedly', 'repeating', 'repetitive', 'replace', 'replaced', 'reply', 'report', 'reporter', 'represent', 'representation', 'represented', 'represents', 'reputation', 'require', 'required', 'requires', 'rescue', 'research', 'resemblance', 'resemble', 'resembles', 'resident', 'resist', 'resolution', 'resolved', 'resort', 'resource', 'respect', 'respectable', 'respected', 'respective', 'respectively', 'response', 'responsibility', 'responsible', 'rest', 'rest cast', 'rest film', 'rest movie', 'restaurant', 'restored', 'result', 'resulting', 'retarded', 'retired', 'return', 'return home', 'returned', 'returning', 'reunion', 'reveal', 'revealed', 'revealing', 'reveals', 'revelation', 'revenge', 'review', 'review film', 'review movie', 'reviewer', 'revolution', 'revolutionary', 'revolves', 'revolves around', 'reward', 'rex', 'reynolds', 'rhythm', 'rich', 'richard', 'richards', 'richardson', 'rick', 'rid', 'ridden', 'ride', 'rider', 'ridiculous', 'ridiculously', 'riding', 'rifle', 'right', 'right away', 'right thing', 'right wrong', 'ring', 'riot', 'rip', 'ripped', 'ripping', 'rise', 'rising', 'risk', 'rita', 'ritter', 'ritual', 'rival', 'river', 'riveting', 'road', 'rob', 'robber', 'robbery', 'robbins', 'robert', 'robin', 'robin hood', 'robin williams', 'robinson', 'robot', 'rochester', 'rock', 'rock roll', 'rocket', 'rocky', 'rod', 'roger', 'rogers', 'role', 'role film', 'role movie', 'role wa', 'role well', 'roll', 'rolled', 'roller', 'rolling', 'roman', 'romance', 'romantic', 'romantic comedy', 'rome', 'romero', 'romp', 'ron', 'ronald', 'roof', 'room', 'roommate', 'rooney', 'root', 'rope', 'rose', 'ross', 'roth', 'rotten', 'rough', 'round', 'rourke', 'route', 'routine', 'row', 'roy', 'royal', 'rubber', 'rubbish', 'ruby', 'rude', 'ruin', 'ruined', 'rule', 'run', 'run away', 'runner', 'running', 'running around', 'running time', 'rupert', 'rural', 'rush', 'rushed', 'russell', 'russia', 'russian', 'russo', 'rusty', 'ruth', 'ruthless', 'ryan', 'sacrifice', 'sad', 'sadistic', 'sadly', 'sadness', 'safe', 'safety', 'saga', 'said', 'said movie', 'said wa', 'sailor', 'saint', 'sake', 'sale', 'sally', 'salman', 'salt', 'sam', 'samantha', 'samuel', 'samurai', 'san', 'san francisco', 'sand', 'sander', 'sandler', 'sandra', 'sandra bullock', 'santa', 'sappy', 'sara', 'sarah', 'sarandon', 'sat', 'satan', 'satire', 'satirical', 'satisfied', 'satisfy', 'satisfying', 'saturday', 'saturday night', 'savage', 'save', 'save day', 'save money', 'saved', 'saving', 'saving grace', 'saw', 'saw film', 'saw movie', 'saw wa', 'say', 'say anything', 'say film', 'say least', 'say movie', 'say much', 'say one', 'say something', 'say wa', 'saying', 'scale', 'scare', 'scarecrow', 'scared', 'scarlett', 'scary', 'scary movie', 'scenario', 'scene', 'scene end', 'scene film', 'scene ha', 'scene involving', 'scene like', 'scene make', 'scene movie', 'scene one', 'scene really', 'scene scene', 'scene two', 'scene wa', 'scene would', 'scenery', 'scheme', 'schlock', 'school', 'school student', 'sci', 'sci fi', 'science', 'science fiction', 'scientific', 'scientist', 'scifi', 'scooby', 'scooby doo', 'scope', 'score', 'scorpion', 'scotland', 'scott', 'scottish', 'scratch', 'scream', 'screaming', 'screen', 'screen presence', 'screen time', 'screening', 'screenplay', 'screenwriter', 'screw', 'screwed', 'script', 'script wa', 'scripted', 'scriptwriter', 'se', 'sea', 'seagal', 'seal', 'sean', 'sean connery', 'search', 'searching', 'season', 'seat', 'second', 'second half', 'second time', 'secondary', 'secondly', 'secret', 'secretary', 'secretly', 'section', 'security', 'see', 'see film', 'see good', 'see great', 'see many', 'see movie', 'see much', 'see one', 'see people', 'see something', 'see wa', 'seed', 'seeing', 'seeing film', 'seeing movie', 'seek', 'seeking', 'seem', 'seem like', 'seemed', 'seemed like', 'seeming', 'seemingly', 'seems', 'seems like', 'seen', 'seen film', 'seen life', 'seen long', 'seen lot', 'seen many', 'seen movie', 'seen one', 'seen original', 'seen since', 'seen wa', 'seen year', 'segment', 'seldom', 'selection', 'self', 'self indulgent', 'selfish', 'sell', 'seller', 'selling', 'semi', 'send', 'sending', 'sends', 'sens', 'sense', 'sense humor', 'senseless', 'sensibility', 'sensible', 'sensitive', 'sent', 'sentence', 'sentiment', 'sentimental', 'separate', 'separated', 'september', 'sequel', 'sequence', 'serf', 'sergeant', 'serial', 'serial killer', 'series', 'series wa', 'serious', 'seriously', 'servant', 'serve', 'served', 'service', 'serving', 'session', 'set', 'set piece', 'setting', 'settle', 'setup', 'seven', 'seventy', 'several', 'several time', 'several year', 'severe', 'severely', 'sex', 'sex scene', 'sexual', 'sexuality', 'sexually', 'sexy', 'seymour', 'sh', 'shade', 'shadow', 'shake', 'shakespeare', 'shaking', 'shaky', 'shall', 'shallow', 'shame', 'shape', 'share', 'shared', 'sharing', 'shark', 'sharp', 'shatner', 'shaw', 'shed', 'sheen', 'sheer', 'shelf', 'shell', 'sheriff', 'shift', 'shine', 'shining', 'ship', 'shirley', 'shirt', 'shock', 'shocked', 'shocking', 'shoddy', 'shoe', 'shoot', 'shooting', 'shootout', 'shop', 'shopping', 'shore', 'short', 'short film', 'short story', 'shortcoming', 'shorter', 'shortly', 'shot', 'shoulder', 'shout', 'shouting', 'show', 'show ever', 'show great', 'show ha', 'show like', 'show movie', 'show one', 'show really', 'show wa', 'show would', 'showcase', 'showdown', 'showed', 'shower', 'showing', 'shown', 'showtime', 'shut', 'shy', 'sibling', 'sick', 'side', 'sidekick', 'sidney', 'sight', 'sign', 'signed', 'significance', 'significant', 'silence', 'silent', 'silent film', 'silliness', 'silly', 'silver', 'similar', 'similarity', 'similarly', 'simmons', 'simon', 'simple', 'simple story', 'simplicity', 'simplistic', 'simply', 'simpson', 'simultaneously', 'sin', 'sinatra', 'since', 'since wa', 'sincere', 'sincerely', 'sing', 'singer', 'singing', 'single', 'sings', 'sinister', 'sink', 'sir', 'sister', 'sit', 'sit back', 'sitcom', 'site', 'sits', 'sitting', 'situation', 'six', 'sixty', 'size', 'sized', 'skeleton', 'sketch', 'skill', 'skin', 'skip', 'skit', 'skull', 'sky', 'slap', 'slapstick', 'slasher', 'slasher film', 'slasher flick', 'slasher movie', 'slaughter', 'slave', 'sleaze', 'sleazy', 'sleep', 'sleeping', 'slice', 'slick', 'slide', 'slight', 'slightest', 'slightly', 'slip', 'sloppy', 'slow', 'slow motion', 'slow moving', 'slowly', 'slug', 'small', 'small part', 'small role', 'small town', 'smaller', 'smart', 'smash', 'smell', 'smile', 'smiling', 'smith', 'smoke', 'smoking', 'smooth', 'snake', 'sneak', 'snipe', 'snow', 'snowman', 'snuff', 'soap', 'soap opera', 'soccer', 'social', 'social commentary', 'society', 'sock', 'soft', 'soft core', 'sold', 'soldier', 'sole', 'solely', 'solid', 'solo', 'solution', 'solve', 'somebody', 'someday', 'somehow', 'someone', 'someone else', 'someone ha', 'something', 'something different', 'something else', 'something like', 'something new', 'something wa', 'sometime', 'sometimes', 'somewhat', 'somewhere', 'son', 'song', 'soon', 'sooner', 'sophisticated', 'soprano', 'sorry', 'sort', 'sort film', 'sort thing', 'soul', 'sound', 'sound effect', 'sound like', 'sound track', 'sounded', 'sounded like', 'sounding', 'soundtrack', 'source', 'south', 'south park', 'southern', 'soviet', 'space', 'spaceship', 'spacey', 'spade', 'spaghetti', 'spaghetti western', 'spain', 'span', 'spanish', 'spare', 'spark', 'speak', 'speaking', 'speaks', 'special', 'special effect', 'specially', 'specie', 'specific', 'specifically', 'spectacle', 'spectacular', 'speech', 'speed', 'spell', 'spencer', 'spend', 'spend time', 'spending', 'spends', 'spent', 'spider', 'spielberg', 'spike', 'spin', 'spiral', 'spirit', 'spirited', 'spiritual', 'spit', 'spite', 'splatter', 'splendid', 'split', 'spock', 'spoil', 'spoiled', 'spoiler', 'spoiler ahead', 'spoke', 'spoken', 'spoof', 'spooky', 'sport', 'spot', 'spread', 'spring', 'spy', 'squad', 'square', 'st', 'stab', 'staff', 'stage', 'staged', 'stair', 'stake', 'stale', 'stalker', 'stan', 'stand', 'standard', 'standing', 'standout', 'stanley', 'stanwyck', 'star', 'star film', 'star movie', 'star trek', 'star war', 'stardom', 'stare', 'staring', 'stark', 'starred', 'starring', 'start', 'start finish', 'started', 'started watching', 'starting', 'state', 'stated', 'statement', 'static', 'station', 'statue', 'status', 'stay', 'stay away', 'stayed', 'staying', 'steady', 'steal', 'steal show', 'stealing', 'steel', 'steer', 'stella', 'stellar', 'step', 'stephen', 'stephen king', 'stereotype', 'stereotypical', 'steve', 'steven', 'steven seagal', 'stevens', 'stewart', 'stick', 'sticking', 'stiff', 'still', 'still good', 'still ha', 'still love', 'still think', 'stiller', 'stilted', 'stink', 'stinker', 'stock', 'stock footage', 'stole', 'stolen', 'stomach', 'stone', 'stood', 'stooge', 'stop', 'stopped', 'stopping', 'store', 'storm', 'story', 'story character', 'story could', 'story film', 'story go', 'story good', 'story great', 'story ha', 'story like', 'story line', 'story make', 'story movie', 'story one', 'story really', 'story take', 'story telling', 'story told', 'story two', 'story wa', 'story well', 'story would', 'storyline', 'storytelling', 'straight', 'straight video', 'straightforward', 'stranded', 'strange', 'strangely', 'stranger', 'stream', 'streep', 'street', 'streisand', 'strength', 'stress', 'stretch', 'stretched', 'strictly', 'strike', 'striking', 'string', 'strip', 'stroke', 'strong', 'stronger', 'strongest', 'strongly', 'struck', 'structure', 'struggle', 'struggling', 'stuart', 'stuck', 'student', 'studio', 'study', 'studying', 'stuff', 'stuff like', 'stumble', 'stumbled', 'stunned', 'stunning', 'stunt', 'stupid', 'stupid movie', 'stupidity', 'style', 'stylish', 'sub', 'sub par', 'sub plot', 'subject', 'subject matter', 'subjected', 'sublime', 'submarine', 'subplot', 'subplots', 'subsequent', 'substance', 'subtitle', 'subtle', 'subtlety', 'subtly', 'succeed', 'succeeded', 'succeeds', 'success', 'successful', 'successfully', 'suck', 'sucked', 'sucker', 'sudden', 'suddenly', 'sue', 'suffer', 'suffered', 'suffering', 'suffers', 'suffice', 'sugar', 'suggest', 'suggested', 'suggestion', 'suggests', 'suicide', 'suit', 'suitable', 'suitably', 'suited', 'sullivan', 'sum', 'summary', 'summer', 'sun', 'sunday', 'sung', 'sunny', 'sunshine', 'super', 'superb', 'superbly', 'superficial', 'superhero', 'superior', 'superman', 'supernatural', 'supply', 'support', 'supported', 'supporting', 'supporting actor', 'supporting cast', 'supporting character', 'supporting role', 'suppose', 'supposed', 'supposedly', 'supreme', 'sure', 'sure wa', 'surely', 'surface', 'surfing', 'surgery', 'surprise', 'surprised', 'surprising', 'surprisingly', 'surprisingly good', 'surreal', 'surround', 'surrounded', 'surrounding', 'surroundings', 'survival', 'survive', 'survived', 'survives', 'surviving', 'survivor', 'susan', 'suspect', 'suspend', 'suspense', 'suspenseful', 'suspension', 'suspicion', 'suspicious', 'sutherland', 'swayze', 'swear', 'swedish', 'sweet', 'swept', 'swim', 'swimming', 'swing', 'switch', 'sword', 'sydney', 'symbol', 'symbolic', 'symbolism', 'sympathetic', 'sympathy', 'syndrome', 'synopsis', 'system', 'table', 'tackle', 'tacky', 'tactic', 'tad', 'tag', 'tail', 'take', 'take away', 'take back', 'take care', 'take place', 'take seriously', 'take time', 'taken', 'taken seriously', 'taking', 'taking place', 'tale', 'talent', 'talented', 'talented actor', 'talk', 'talked', 'talkie', 'talking', 'tall', 'tame', 'tank', 'tap', 'tape', 'tarantino', 'target', 'target audience', 'tarzan', 'task', 'taste', 'tasteless', 'taught', 'tax', 'taxi', 'taylor', 'tea', 'teach', 'teacher', 'teaching', 'team', 'tear', 'tech', 'technical', 'technically', 'technicolor', 'technique', 'technology', 'ted', 'tedious', 'teen', 'teenage', 'teenager', 'teeth', 'television', 'television series', 'television show', 'tell', 'tell story', 'tell wa', 'telling', 'telling story', 'temple', 'tempted', 'ten', 'ten minute', 'ten year', 'tenant', 'tend', 'tendency', 'tender', 'tends', 'tense', 'tension', 'term', 'terminator', 'terrible', 'terrible acting', 'terrible film', 'terrible movie', 'terribly', 'terrific', 'terrified', 'terrifying', 'territory', 'terror', 'terrorist', 'terry', 'test', 'testament', 'texas', 'text', 'th', 'th century', 'thank', 'thank god', 'thankfully', 'thanks', 'thats', 'theater', 'theater wa', 'theatre', 'theatrical', 'theme', 'theme song', 'themed', 'theory', 'therefore', 'thick', 'thief', 'thin', 'thing', 'thing come', 'thing could', 'thing ever', 'thing film', 'thing get', 'thing go', 'thing going', 'thing happen', 'thing like', 'thing make', 'thing movie', 'thing really', 'thing say', 'thing wa', 'thing would', 'think', 'think could', 'think film', 'think good', 'think movie', 'think one', 'think people', 'think wa', 'think would', 'thinking', 'thinking wa', 'third', 'thirty', 'thomas', 'thompson', 'thoroughly', 'thoroughly enjoyed', 'though', 'though film', 'though movie', 'though wa', 'thought', 'thought film', 'thought movie', 'thought provoking', 'thought wa', 'thought would', 'thoughtful', 'thousand', 'thread', 'threat', 'threatened', 'threatening', 'threatens', 'three', 'three time', 'three year', 'threw', 'thrill', 'thrilled', 'thriller', 'thrilling', 'throat', 'throughout', 'throughout entire', 'throughout film', 'throughout movie', 'throughout whole', 'throw', 'throwing', 'thrown', 'thru', 'thrust', 'thug', 'thumb', 'thus', 'ticket', 'tie', 'tied', 'tiger', 'tight', 'till', 'tim', 'tim burton', 'time', 'time also', 'time around', 'time even', 'time favorite', 'time film', 'time get', 'time go', 'time ha', 'time like', 'time make', 'time money', 'time movie', 'time one', 'time period', 'time really', 'time saw', 'time see', 'time seen', 'time still', 'time think', 'time time', 'time travel', 'time wa', 'time watch', 'time watching', 'time would', 'time year', 'timeless', 'timing', 'timothy', 'tiny', 'tip', 'tired', 'tiresome', 'titanic', 'title', 'title brazil', 'title character', 'title role', 'titled', 'today', 'today standard', 'todd', 'together', 'toilet', 'told', 'tom', 'tom hank', 'tomato', 'tommy', 'tomorrow', 'ton', 'tone', 'tongue', 'tongue cheek', 'tonight', 'tony', 'took', 'took place', 'tool', 'toole', 'top', 'top notch', 'topic', 'topless', 'torn', 'torture', 'tortured', 'tossed', 'total', 'totally', 'touch', 'touched', 'touching', 'tough', 'tough guy', 'tour', 'tourist', 'toward', 'toward end', 'towards', 'towards end', 'tower', 'town', 'toy', 'trace', 'track', 'tracking', 'tracy', 'trade', 'trademark', 'tradition', 'traditional', 'traffic', 'tragedy', 'tragic', 'trail', 'trailer', 'train', 'train wreck', 'trained', 'training', 'trait', 'transfer', 'transformation', 'transformed', 'transition', 'translation', 'trap', 'trapped', 'trash', 'trashy', 'trauma', 'travel', 'traveling', 'travesty', 'travolta', 'treasure', 'treat', 'treated', 'treatment', 'tree', 'trek', 'tremendous', 'trend', 'trial', 'triangle', 'tribe', 'tribute', 'trick', 'tried', 'trilogy', 'trio', 'trip', 'tripe', 'trite', 'triumph', 'trivia', 'troma', 'troop', 'trouble', 'troubled', 'truck', 'true', 'true life', 'true love', 'true story', 'truly', 'trust', 'truth', 'try', 'try find', 'try get', 'try hard', 'try make', 'trying', 'trying find', 'trying get', 'trying make', 'tube', 'tune', 'tunnel', 'turd', 'turkey', 'turkish', 'turn', 'turned', 'turner', 'turning', 'tv', 'tv movie', 'tv series', 'tv show', 'twelve', 'twenty', 'twenty minute', 'twenty year', 'twice', 'twilight', 'twilight zone', 'twin', 'twist', 'twist turn', 'twisted', 'two', 'two character', 'two different', 'two film', 'two hour', 'two lead', 'two main', 'two men', 'two movie', 'two people', 'two sister', 'two star', 'two thing', 'two three', 'two woman', 'two year', 'two young', 'tyler', 'type', 'type film', 'type movie', 'typical', 'typically', 'ugh', 'ugly', 'uh', 'uk', 'ultimate', 'ultimately', 'ultra', 'um', 'un', 'unable', 'unaware', 'unbearable', 'unbelievable', 'unbelievably', 'uncle', 'uncomfortable', 'unconvincing', 'uncut', 'undead', 'underdog', 'underground', 'underlying', 'underrated', 'understand', 'understandable', 'understanding', 'understands', 'understated', 'understood', 'underwater', 'underworld', 'undoubtedly', 'uneven', 'unexpected', 'unexpectedly', 'unfair', 'unfold', 'unfolds', 'unforgettable', 'unfortunate', 'unfortunately', 'unfunny', 'unhappy', 'uniform', 'uniformly', 'uninspired', 'unintentional', 'unintentionally', 'uninteresting', 'union', 'unique', 'unit', 'united', 'united state', 'universal', 'universe', 'university', 'unknown', 'unless', 'unlikable', 'unlike', 'unlikeable', 'unlikely', 'unnecessary', 'unoriginal', 'unpleasant', 'unpredictable', 'unreal', 'unrealistic', 'unseen', 'unsettling', 'unusual', 'unwatchable', 'uplifting', 'upon', 'upper', 'ups', 'upset', 'upside', 'urban', 'urge', 'us', 'usa', 'use', 'used', 'useful', 'useless', 'user', 'using', 'ustinov', 'usual', 'usually', 'utter', 'utterly', 'uwe', 'uwe boll', 'vacation', 'vague', 'vaguely', 'vain', 'valentine', 'valley', 'valuable', 'value', 'vampire', 'vampire movie', 'van', 'van damme', 'vanity', 'variation', 'variety', 'various', 'vast', 'vega', 'vehicle', 'vein', 'velvet', 'vengeance', 'venice', 'venture', 'vera', 'version', 'version wa', 'versus', 'veteran', 'vhs', 'via', 'vibrant', 'vice', 'vicious', 'victim', 'victor', 'victoria', 'victorian', 'victory', 'video', 'video game', 'video store', 'vietnam', 'view', 'viewed', 'viewer', 'viewing', 'viewpoint', 'village', 'villain', 'vince', 'vincent', 'violence', 'violent', 'virgin', 'virginia', 'virtual', 'virtually', 'virtue', 'virus', 'visconti', 'visible', 'vision', 'visit', 'visited', 'visiting', 'visitor', 'visual', 'visual effect', 'visually', 'visuals', 'vital', 'vivid', 'vocal', 'voice', 'voiced', 'voight', 'volume', 'von', 'voodoo', 'vote', 'voted', 'voyage', 'vulgar', 'vulnerable', 'wa', 'wa able', 'wa absolutely', 'wa actually', 'wa almost', 'wa already', 'wa also', 'wa always', 'wa amazing', 'wa another', 'wa awful', 'wa bad', 'wa based', 'wa beautiful', 'wa best', 'wa better', 'wa big', 'wa bit', 'wa bored', 'wa boring', 'wa born', 'wa brilliant', 'wa complete', 'wa completely', 'wa decent', 'wa definitely', 'wa directed', 'wa disappointed', 'wa done', 'wa enough', 'wa entertaining', 'wa even', 'wa ever', 'wa excellent', 'wa expecting', 'wa extremely', 'wa fact', 'wa fantastic', 'wa far', 'wa film', 'wa filmed', 'wa fine', 'wa first', 'wa forced', 'wa fun', 'wa funny', 'wa given', 'wa going', 'wa good', 'wa great', 'wa hard', 'wa hilarious', 'wa hoping', 'wa horrible', 'wa huge', 'wa impressed', 'wa incredibly', 'wa intended', 'wa interesting', 'wa kid', 'wa killed', 'wa kind', 'wa last', 'wa left', 'wa like', 'wa little', 'wa looking', 'wa lot', 'wa made', 'wa meant', 'wa movie', 'wa much', 'wa never', 'wa nice', 'wa nominated', 'wa nothing', 'wa obviously', 'wa ok', 'wa okay', 'wa one', 'wa originally', 'wa part', 'wa perfect', 'wa playing', 'wa pleasantly', 'wa point', 'wa poor', 'wa poorly', 'wa pretty', 'wa probably', 'wa produced', 'wa put', 'wa quite', 'wa rather', 'wa real', 'wa really', 'wa released', 'wa right', 'wa set', 'wa shot', 'wa shown', 'wa simply', 'wa something', 'wa still', 'wa stupid', 'wa superb', 'wa supposed', 'wa surprised', 'wa terrible', 'wa thinking', 'wa time', 'wa totally', 'wa true', 'wa truly', 'wa trying', 'wa used', 'wa wa', 'wa waste', 'wa watching', 'wa way', 'wa well', 'wa wonderful', 'wa worst', 'wa worth', 'wa written', 'wa wrong', 'wa year', 'wa young', 'wacky', 'wagner', 'wagon', 'wait', 'wait see', 'waited', 'waiting', 'waitress', 'wake', 'walk', 'walk away', 'walked', 'walken', 'walker', 'walking', 'wall', 'wallace', 'walsh', 'walt', 'walter', 'wandering', 'wanna', 'wannabe', 'want', 'want get', 'want give', 'want go', 'want know', 'want make', 'want see', 'want watch', 'wanted', 'wanted see', 'wanting', 'war', 'war film', 'war ii', 'war movie', 'war wa', 'ward', 'warden', 'wardrobe', 'warm', 'warming', 'warmth', 'warn', 'warned', 'warner', 'warning', 'warren', 'warrior', 'wash', 'washed', 'washington', 'waste', 'waste money', 'waste time', 'wasted', 'wasted time', 'wasting', 'wasting time', 'watch', 'watch film', 'watch movie', 'watch one', 'watch show', 'watch wa', 'watchable', 'watched', 'watched film', 'watched movie', 'watched wa', 'watcher', 'watching', 'watching film', 'watching movie', 'watching wa', 'water', 'watson', 'wave', 'wax', 'way', 'way back', 'way film', 'way get', 'way life', 'way make', 'way movie', 'way much', 'way one', 'way wa', 'wayne', 'weak', 'weakest', 'weakness', 'wealth', 'wealthy', 'weapon', 'wear', 'wearing', 'weather', 'web', 'website', 'wedding', 'week', 'weekend', 'weight', 'weird', 'welcome', 'well', 'well acted', 'well cast', 'well developed', 'well directed', 'well done', 'well enough', 'well film', 'well know', 'well known', 'well made', 'well movie', 'well one', 'well thought', 'well wa', 'well worth', 'well written', 'welles', 'wendy', 'went', 'went see', 'werewolf', 'wes', 'west', 'western', 'wet', 'whale', 'whatever', 'whats', 'whatsoever', 'wheel', 'whenever', 'whereas', 'whether', 'whilst', 'white', 'whoever', 'whole', 'whole family', 'whole film', 'whole lot', 'whole movie', 'whole new', 'whole story', 'whole thing', 'whole time', 'wholly', 'whore', 'whose', 'wicked', 'wide', 'widely', 'widescreen', 'widmark', 'widow', 'wife', 'wig', 'wild', 'wilder', 'wilderness', 'wildly', 'william', 'williams', 'willie', 'willing', 'willis', 'wilson', 'win', 'wind', 'window', 'wine', 'wing', 'winner', 'winning', 'winter', 'wire', 'wisdom', 'wise', 'wisely', 'wish', 'wish could', 'wished', 'wishing', 'wit', 'witch', 'within', 'without', 'without doubt', 'without much', 'witness', 'witnessed', 'witty', 'wizard', 'wolf', 'woman', 'woman ha', 'woman wa', 'wonder', 'wondered', 'wonderful', 'wonderful film', 'wonderful movie', 'wonderfully', 'wondering', 'wong', 'wont', 'woo', 'wood', 'wooden', 'woody', 'woody allen', 'word', 'wore', 'work', 'work art', 'work film', 'work movie', 'work wa', 'work well', 'worked', 'worker', 'working', 'working class', 'world', 'world war', 'worm', 'worn', 'worried', 'worry', 'worse', 'worse movie', 'worst', 'worst ever', 'worst film', 'worst movie', 'worst part', 'worst thing', 'worth', 'worth look', 'worth seeing', 'worth time', 'worth watch', 'worth watching', 'worthless', 'worthwhile', 'worthy', 'would', 'would also', 'would better', 'would come', 'would definitely', 'would even', 'would ever', 'would expect', 'would find', 'would get', 'would give', 'would given', 'would go', 'would good', 'would great', 'would happen', 'would like', 'would liked', 'would love', 'would made', 'would make', 'would much', 'would never', 'would nice', 'would probably', 'would rather', 'would really', 'would recommend', 'would say', 'would see', 'would seem', 'would still', 'would take', 'would think', 'would want', 'wound', 'wounded', 'wow', 'wrap', 'wrapped', 'wreck', 'wrenching', 'wrestler', 'wrestling', 'wretched', 'wright', 'write', 'writer', 'writer director', 'writes', 'writing', 'writing wa', 'written', 'written directed', 'wrong', 'wrong movie', 'wrote', 'ww', 'wwe', 'wwii', 'www', 'ya', 'yard', 'yawn', 'yeah', 'year', 'year ago', 'year earlier', 'year film', 'year later', 'year old', 'year since', 'year wa', 'yell', 'yelling', 'yellow', 'yep', 'yes', 'yesterday', 'yet', 'yet another', 'yet still', 'york', 'york city', 'young', 'young actor', 'young boy', 'young child', 'young girl', 'young man', 'young people', 'young woman', 'younger', 'youngest', 'youngster', 'youth', 'youtube', 'zero', 'zombie', 'zombie movie', 'zone', 'zoom']\n"
          ]
        }
      ],
      "source": [
        "#Transforming all text datasets\n",
        "x_train_tfidf = vectorizer.fit_transform(train_data.text)\n",
        "x_test_tfidf = vectorizer.transform(test_data.text)\n",
        "x_dev_tfidf = vectorizer.transform(dev_data.text)\n",
        "x_param_tfidf=vectorizer.transform(param.text)\n",
        "# get_feauture_names() for a more thorough view\n",
        "print(vectorizer.get_feature_names()) "
      ]
    },
    {
      "cell_type": "code",
      "execution_count": null,
      "metadata": {
        "colab": {
          "base_uri": "https://localhost:8080/"
        },
        "id": "7PznbSmRgV_x",
        "outputId": "59cb977d-297c-4bdf-c86a-acd0e9f16982"
      },
      "outputs": [
        {
          "name": "stdout",
          "output_type": "stream",
          "text": [
            "Shape of training data: (35000, 7500)\n",
            "\n",
            "Shape of test data: (9000, 7500)\n",
            "\n",
            "Shape of dev data: (6000, 7500)\n",
            "\n",
            "Shape of param data: (41000, 7500)\n",
            "\n"
          ]
        }
      ],
      "source": [
        "print('Shape of training data: {}\\n'.format(x_train_tfidf.shape))\n",
        "print('Shape of test data: {}\\n'.format(x_test_tfidf.shape))\n",
        "print('Shape of dev data: {}\\n'.format(x_dev_tfidf.shape))\n",
        "print('Shape of param data: {}\\n'.format(x_param_tfidf.shape))\n",
        "#print(x_test_tfidf[0, :])  # Sparce matrix --> Saves only the cells which are not zero"
      ]
    },
    {
      "cell_type": "code",
      "execution_count": null,
      "metadata": {
        "colab": {
          "base_uri": "https://localhost:8080/"
        },
        "id": "JvN4fI98gb48",
        "outputId": "f437bfdb-3687-4740-f5bd-87a1f55d1644"
      },
      "outputs": [
        {
          "name": "stdout",
          "output_type": "stream",
          "text": [
            "Sorted indexes: [(0.4523210905971318, 4214), (0.4471721267264319, 7015), (0.4024403449143397, 2279), (0.40159796524289404, 4614)]\n",
            "Best indexes: [4214, 7015, 2279, 4614]\n",
            "\n",
            "Shape of training data: (35000, 7500) --> (35000, 2500)\n",
            "Shape of test data: (9000, 7500) --> (9000, 2500)\n",
            "\n"
          ]
        }
      ],
      "source": [
        "# Number of features to keep\n",
        "k = 2500 # we tested for k= (500,1000,1500,2000,2500,3000,3750) with 1/3 of the total features we managed to get the same scores +- 1%\n",
        "\n",
        "# Convert sparse matrix to np.array --> Slow\n",
        "x_train_tfidf_array = x_train_tfidf.toarray()  \n",
        "\n",
        "# The function relies on nonparametric methods \n",
        "# based on entropy estimation from k-nearest neighbors distances\n",
        "mutual_information = mutual_info_classif(x_train_tfidf_array,train_data.sentiment, n_neighbors=5, \n",
        "                                         discrete_features=True,\n",
        "                                         random_state=4321)\n",
        "\n",
        "# Indexes of the feature columns\n",
        "indexes = np.arange(len(mutual_information))\n",
        "\n",
        "# Sort by mutual information values --> (value, idx)\n",
        "sorted_indexes = sorted(zip(mutual_information, indexes), reverse=True)\n",
        "print('Sorted indexes: {}'.format(sorted_indexes[:4]))\n",
        "\n",
        "# keep the indexes of the best k features\n",
        "best_idxs = [idx for val, idx in sorted_indexes[:k]]\n",
        "print('Best indexes: {}\\n'.format(best_idxs[:4]))\n",
        "\n",
        "# Keep only the colums of the best features\n",
        "x_train_best_tfidf = x_train_tfidf_array[:, best_idxs]\n",
        "x_test_best_tfidf = x_test_tfidf[:, best_idxs]\n",
        "x_dev_best_tfidf = x_dev_tfidf[:, best_idxs]\n",
        "print('Shape of training data: {} --> {}'.format(x_train_tfidf.shape, x_train_best_tfidf.shape))\n",
        "print('Shape of test data: {} --> {}\\n'.format(x_test_tfidf.shape, x_test_best_tfidf.shape))"
      ]
    },
    {
      "cell_type": "code",
      "execution_count": null,
      "metadata": {
        "id": "RSo7KI1JgePg"
      },
      "outputs": [],
      "source": [
        "#Replacing tfidf with the one above(k best features)\n",
        "x_train_tfidf = x_train_best_tfidf\n",
        "x_test_tfidf = x_test_best_tfidf\n",
        "x_dev_tfidf = x_dev_best_tfidf"
      ]
    },
    {
      "cell_type": "code",
      "execution_count": null,
      "metadata": {
        "id": "q99TLuMpgf4w"
      },
      "outputs": [],
      "source": [
        "#Learning Curves Init\n",
        "def F1_Curves(function,title):\n",
        "  #Split into 5 parts/Round numbers\n",
        "  parts = np.linspace(0.20,1,5)*x_train_tfidf.shape[0]\n",
        "  #Init lists\n",
        "  trainlist = []\n",
        "  testlist = []\n",
        "  devlist = []\n",
        "  for p in parts:\n",
        "    estimator = function\n",
        "    #Fit with part of the data / Increases for every loop\n",
        "    estimator.fit(x_train_tfidf[:int(p)],y_train[:int(p)])\n",
        "    #Saving scores\n",
        "    trainlist.append(f1_score(y_train[:int(p)],estimator.predict(x_train_tfidf[:int(p)]),average='macro'))\n",
        "    testlist.append(f1_score(y_test,estimator.predict(x_test_tfidf),average='macro'))\n",
        "    devlist.append(f1_score(y_dev,estimator.predict(x_dev_tfidf),average='macro'))\n",
        "  #Plotting lines\n",
        "  plt.plot(parts,trainlist,label='Train Score')\n",
        "  plt.plot(parts,testlist,label='Test Score')\n",
        "  plt.plot(parts,devlist,label='Dev Score')\n",
        "  plt.xlabel('Training Examples')\n",
        "  plt.ylabel('F1 Score')\n",
        "  plt.legend(loc='lower right')\n",
        "  plt.title('Learning Curves for '+title)\n",
        "  plt.show()"
      ]
    },
    {
      "cell_type": "code",
      "execution_count": null,
      "metadata": {
        "id": "RCV_WEdBnMOU"
      },
      "outputs": [],
      "source": [
        "#Predefined Split\n",
        "split_index =( [-1]*len(train_data))+([0]*len(dev_data))\n",
        "pds = PredefinedSplit(test_fold = split_index)\n",
        "\n",
        "from sklearn.metrics import f1_score, make_scorer\n",
        "f1 = make_scorer(f1_score , average='macro')"
      ]
    },
    {
      "cell_type": "markdown",
      "metadata": {
        "id": "EWWgDuUUkiUv"
      },
      "source": [
        "##### Dummy Classifier (1st Baseline)"
      ]
    },
    {
      "cell_type": "code",
      "execution_count": null,
      "metadata": {
        "colab": {
          "base_uri": "https://localhost:8080/"
        },
        "id": "Zzb2bG8kgkPJ",
        "outputId": "ef00d2cf-e465-4265-8cc5-4e9c4556c612"
      },
      "outputs": [
        {
          "name": "stdout",
          "output_type": "stream",
          "text": [
            "Training took: 0.002225160598754883 seconds \n",
            "\n",
            "Train accuracy: 50.04% \n",
            "\n",
            "Dev accuracy: 50.08% \n",
            "\n",
            "Test accuracy: 49.80% \n",
            "\n",
            "#Class 0 in Train dataset: (17487,)\n",
            "#Class 1 in Train dataset: (17513,)\n",
            "\n",
            "Confusion Matrix for test data:\n"
          ]
        },
        {
          "data": {
            "image/png": "[encoded data removed]",
            "text/plain": [
              "<Figure size 432x288 with 2 Axes>"
            ]
          },
          "metadata": {
            "needs_background": "light"
          },
          "output_type": "display_data"
        }
      ],
      "source": [
        "# Train\n",
        "# The dummy classifier always predicts the 'most frequent' class\n",
        "baseline = DummyClassifier(strategy='most_frequent')\n",
        "start_time = time.time()\n",
        "baseline.fit(x_train_tfidf, train_data.sentiment)\n",
        "print(\"Training took: {} seconds \\n\".format(time.time() - start_time))\n",
        "\n",
        "# Evaluate on train,dev, and test subsets\n",
        "predictions_train = baseline.predict(x_train_tfidf)\n",
        "score = accuracy_score(train_data.sentiment, predictions_train)\n",
        "print(\"Train accuracy: {:.2f}% \\n\".format(score*100))\n",
        "\n",
        "predictions_dev = baseline.predict(x_dev_tfidf)\n",
        "score = accuracy_score(dev_data.sentiment, predictions_dev)\n",
        "print(\"Dev accuracy: {:.2f}% \\n\".format(score*100))\n",
        "\n",
        "predictions_test = baseline.predict(x_test_tfidf)\n",
        "score = accuracy_score(test_data.sentiment, predictions_test)\n",
        "print(\"Test accuracy: {:.2f}% \\n\".format(score*100))\n",
        "\n",
        "print('#Class 0 in Train dataset:', np.where(train_data.sentiment == 0)[0].shape)\n",
        "print('#Class 1 in Train dataset:', np.where(train_data.sentiment == 1)[0].shape)\n",
        "\n",
        "print(\"\\nConfusion Matrix for test data:\")\n",
        "plot_confusion_matrix(estimator=baseline, X=x_test_tfidf, y_true=test_data.sentiment, values_format = '.0f');"
      ]
    },
    {
      "cell_type": "code",
      "execution_count": null,
      "metadata": {
        "colab": {
          "base_uri": "https://localhost:8080/"
        },
        "id": "X6kMB4Rskmu6",
        "outputId": "e5075e07-2d2c-457d-c150-e1eaf65f5ce9"
      },
      "outputs": [
        {
          "name": "stdout",
          "output_type": "stream",
          "text": [
            "Dummy Classifier\n",
            "\n",
            "Train\n",
            "              precision    recall  f1-score   support\n",
            "\n",
            "           0       0.00      0.00      0.00     17487\n",
            "           1       0.50      1.00      0.67     17513\n",
            "\n",
            "    accuracy                           0.50     35000\n",
            "   macro avg       0.25      0.50      0.33     35000\n",
            "weighted avg       0.25      0.50      0.33     35000\n",
            "\n",
            "\n",
            "Dev\n",
            "              precision    recall  f1-score   support\n",
            "\n",
            "           0       0.00      0.00      0.00      2995\n",
            "           1       0.50      1.00      0.67      3005\n",
            "\n",
            "    accuracy                           0.50      6000\n",
            "   macro avg       0.25      0.50      0.33      6000\n",
            "weighted avg       0.25      0.50      0.33      6000\n",
            "\n",
            "\n",
            "Test\n",
            "              precision    recall  f1-score   support\n",
            "\n",
            "           0       0.00      0.00      0.00      4518\n",
            "           1       0.50      1.00      0.66      4482\n",
            "\n",
            "    accuracy                           0.50      9000\n",
            "   macro avg       0.25      0.50      0.33      9000\n",
            "weighted avg       0.25      0.50      0.33      9000\n",
            "\n"
          ]
        }
      ],
      "source": [
        "#Classification Report on train,dev,test datasets.\n",
        "\n",
        "print('Dummy Classifier')\n",
        "print('')\n",
        "print('Train')\n",
        "print(classification_report(y_train,predictions_train))\n",
        "print('')\n",
        "print('Dev')\n",
        "print(classification_report(y_dev,predictions_dev))\n",
        "print('')\n",
        "print('Test')\n",
        "print(classification_report(y_test,predictions_test))"
      ]
    },
    {
      "cell_type": "code",
      "execution_count": null,
      "metadata": {
        "colab": {
          "base_uri": "https://localhost:8080/"
        },
        "id": "NFVDCQVFknWh",
        "outputId": "b4268901-6273-4dcb-fe48-98b9ee8aae76"
      },
      "outputs": [
        {
          "name": "stdout",
          "output_type": "stream",
          "text": [
            "Training AUC score =  0.5\n",
            "Dev AUC score =  0.5\n",
            "Test AUC score =  0.5\n"
          ]
        }
      ],
      "source": [
        "#Roc scores\n",
        "print('Training AUC score = ',roc_auc_score(y_train,predictions_train))\n",
        "print('Dev AUC score = ',roc_auc_score(y_dev,predictions_dev))\n",
        "print('Test AUC score = ',roc_auc_score(y_test,predictions_test))"
      ]
    },
    {
      "cell_type": "code",
      "execution_count": null,
      "metadata": {
        "colab": {
          "base_uri": "https://localhost:8080/"
        },
        "id": "6JcOrPPfkroC",
        "outputId": "a4658ef7-4601-4151-f6f0-aac84f8ff118"
      },
      "outputs": [
        {
          "data": {
            "image/png": "[encoded data removed]",
            "text/plain": [
              "<Figure size 432x288 with 1 Axes>"
            ]
          },
          "metadata": {
            "needs_background": "light"
          },
          "output_type": "display_data"
        }
      ],
      "source": [
        "F1_Curves(DummyClassifier(),'Dummy Classifier')"
      ]
    },
    {
      "cell_type": "markdown",
      "metadata": {
        "id": "sS501ycHlBeF"
      },
      "source": [
        "##### Logistic Regression (2nd Baseline)"
      ]
    },
    {
      "cell_type": "code",
      "execution_count": null,
      "metadata": {
        "colab": {
          "base_uri": "https://localhost:8080/",
          "height": 380
        },
        "id": "2mCVI_TelEEZ",
        "outputId": "16620b21-9541-4d3a-8b72-739a2caa6871"
      },
      "outputs": [],
      "source": [
        "# Train // Approx 5 minutes\n",
        "#Grid for Grid Search\n",
        "grid={\"C\":np.logspace(-3,3,7), \"penalty\":[\"l1\",\"l2\"]}# l1 lasso l2 ridge\n",
        "\n",
        "clf = LogisticRegression(solver=\"saga\")\n",
        "clf_cv=GridSearchCV(clf,grid,cv=pds,scoring=f1)\n",
        "start_time = time.time()\n",
        "clf_cv.fit(x_param_tfidf, y_param)\n",
        "print(\"tuned hyperparameters :(best parameters) \",clf_cv.best_params_)\n",
        "print(\"accuracy :\",clf_cv.best_score_)\n",
        "print(\"Training took: {} seconds \\n\".format(time.time() - start_time))"
      ]
    },
    {
      "cell_type": "code",
      "execution_count": null,
      "metadata": {
        "id": "m6bK-QiTlLiV"
      },
      "outputs": [],
      "source": [
        "#Train using the best parameters from Grid Search\n",
        "clf = LogisticRegression(C=clf_cv.best_params_['C'],penalty=clf_cv.best_params_['penalty'], solver='saga' )\n",
        "clf.fit(x_train_tfidf, y_train)\n",
        "\n",
        "# Evaluate on train,dev, and test subsets \n",
        "predictions_train = clf.predict(x_train_tfidf)\n",
        "predictions_proba_train=clf.predict_proba(x_train_tfidf)\n",
        "score = f1_score(y_train,predictions_train)\n",
        "print(\"Train f1-score: {:.2f}%\\n\".format(score*100))\n",
        "\n",
        "predictions_dev = clf.predict(x_dev_tfidf)\n",
        "predictions_proba_dev=clf.predict_proba(x_dev_tfidf)\n",
        "score = f1_score(y_dev, predictions_dev)\n",
        "print(\"Dev f1-score: {:.2f}% \\n\".format(score*100))\n",
        "\n",
        "predictions_test = clf.predict(x_test_tfidf)\n",
        "predictions_proba_test=clf.predict_proba(x_test_tfidf)\n",
        "score = f1_score(y_test, predictions_test)\n",
        "print(\"Test f1-score: {:.2f}% \\n\".format(score*100))\n",
        "\n",
        "print(\"\\nConfusion Matrix for test data:\")\n",
        "plot_confusion_matrix(estimator=clf, X=x_test_tfidf, y_true=y_test, values_format = '.0f');"
      ]
    },
    {
      "cell_type": "code",
      "execution_count": null,
      "metadata": {
        "id": "wqWY_k9SlLkP"
      },
      "outputs": [],
      "source": [
        "#Classification Report on train,dev,test datasets.\n",
        "\n",
        "print('Logistic Regression')\n",
        "print('')\n",
        "print('Train')\n",
        "print(classification_report(y_train,predictions_train))\n",
        "print('')\n",
        "print('Dev')\n",
        "print(classification_report(y_dev,predictions_dev))\n",
        "print('')\n",
        "print('Test')\n",
        "print(classification_report(y_test,predictions_test))"
      ]
    },
    {
      "cell_type": "code",
      "execution_count": null,
      "metadata": {
        "id": "Ywe5SoWQlLmR"
      },
      "outputs": [],
      "source": [
        "# #Area Under the Curve score\n",
        "\n",
        "# print('Training AUC score = ',roc_auc_score(y_train,predictions_train))\n",
        "# print('Dev AUC score = ',roc_auc_score(y_dev,predictions_dev))\n",
        "# print('Test AUC score = ',roc_auc_score(y_test,predictions_test))"
      ]
    },
    {
      "cell_type": "code",
      "execution_count": null,
      "metadata": {
        "id": "fLR_A304lO7g"
      },
      "outputs": [],
      "source": [
        "#Setting up seaborne pallete\n",
        "sns.set(rc={'figure.figsize':(11.7,8.27)})\n",
        "palette = sns.color_palette(\"bright\", 2)"
      ]
    },
    {
      "cell_type": "code",
      "execution_count": null,
      "metadata": {
        "id": "jOKThRuTlQJl"
      },
      "outputs": [],
      "source": [
        "F1_Curves(LogisticRegression(C=clf_cv.best_params_['C'],penalty=clf_cv.best_params_['penalty'], solver='saga'),\"Logistic Regression\")"
      ]
    },
    {
      "cell_type": "code",
      "execution_count": null,
      "metadata": {
        "id": "iCIKIknlPGHj"
      },
      "outputs": [],
      "source": [
        "from sklearn.metrics import precision_recall_curve\n",
        "\n",
        "\n",
        "#Training AUC for the 2 Classes\n",
        "p,r,t = precision_recall_curve(y_train,predictions_proba_train[:,1])\n",
        "positive_area=auc(r,p)\n",
        "print(positive_area)\n",
        "\n",
        "p2,r2,t2 = precision_recall_curve(1-y_train,predictions_proba_train[:,0])\n",
        "negative_area=auc(r2,p2)\n",
        "print(negative_area)\n",
        "\n",
        "#Dev AUC for the 2 Classes\n",
        "p3,r3,t3 = precision_recall_curve(y_dev,predictions_proba_dev[:,1])\n",
        "positive_area2=auc(r3,p3)\n",
        "print(positive_area2)\n",
        "\n",
        "p4,r4,t4 = precision_recall_curve(1-y_dev,predictions_proba_dev[:,0])\n",
        "negative_area2=auc(r4,p4)\n",
        "print(negative_area2)\n",
        "\n",
        "\n",
        "#Test AUC for the 2 Classes\n",
        "p5,r5,t5 = precision_recall_curve(y_test,predictions_proba_test[:,1])\n",
        "positive_area3=auc(r5,p5)\n",
        "print(positive_area3)\n",
        "\n",
        "p6,r6,t6 = precision_recall_curve(1-y_test,predictions_proba_test[:,0])\n",
        "negative_area3=auc(r6,p6)\n",
        "print(negative_area3)"
      ]
    },
    {
      "cell_type": "markdown",
      "metadata": {
        "id": "tP-xwQrcgiRc"
      },
      "source": [
        "##### Neural Net"
      ]
    },
    {
      "cell_type": "markdown",
      "metadata": {
        "id": "cqdFbJUgs5cP"
      },
      "source": [
        "###### Hyperparameter Tuning(Keras Tuner)"
      ]
    },
    {
      "cell_type": "code",
      "execution_count": null,
      "metadata": {
        "id": "xCjEkPU3ABuj"
      },
      "outputs": [],
      "source": [
        "def build_model(hp):\n",
        "    \"\"\"\n",
        "    Builds model and sets up hyperparameter space to search.\n",
        "    \n",
        "    Parameters\n",
        "    ----------\n",
        "    hp : HyperParameter object\n",
        "        Configures hyperparameters to tune.\n",
        "        \n",
        "    Returns\n",
        "    -------\n",
        "    model : keras model\n",
        "        Compiled model with hyperparameters to tune.\n",
        "    \"\"\"\n",
        "    # Initialize sequential API and start building model.\n",
        "    model = keras.Sequential()\n",
        "    model.add(keras.layers.Flatten(input_shape=(2500,)))\n",
        "    \n",
        "    # Tune the number of hidden layers and units in each.\n",
        "    # Number of hidden layers: 1 - 3\n",
        "    # Number of Units: 32 - 512 with stepsize of 32\n",
        "    for i in range(1, hp.Int(\"num_layers\", 1, 3)):\n",
        "        model.add(\n",
        "            keras.layers.Dense(\n",
        "                units=hp.Int(\"units_\" + str(i), min_value=32, max_value=512, step=32),\n",
        "                activation=\"relu\")\n",
        "            )\n",
        "        \n",
        "        # Tune dropout layer with values from 0 - 0.5 with stepsize of 0.1.\n",
        "        model.add(keras.layers.Dropout(hp.Float(\"dropout_\" + str(i), 0.1, 0.5, step=0.1)))\n",
        "    \n",
        "    # Add output layer.\n",
        "    model.add(keras.layers.Dense(units=1, activation=\"sigmoid\"))\n",
        "    \n",
        "    # Tune learning rate for Adam optimizer with values from  0.001, or 0.0001/We run the loop for bigger learning rate values but it was too time consuming\n",
        "    #and we only kept the 2 best learning values for further development of our model.\n",
        "    hp_learning_rate = hp.Choice(\"learning_rate\", values=[1e-3, 1e-4])\n",
        "    \n",
        "    # Define optimizer, loss, and metrics\n",
        "    model.compile(optimizer=keras.optimizers.Adam(learning_rate=hp_learning_rate),\n",
        "                  loss=keras.losses.BinaryCrossentropy(),\n",
        "                  metrics=[\"accuracy\"])\n",
        "    \n",
        "    return model"
      ]
    },
    {
      "cell_type": "code",
      "execution_count": null,
      "metadata": {
        "id": "roiDaa8I7ebP"
      },
      "outputs": [],
      "source": [
        "# Instantiate the tuner\n",
        "#The Hyperband tuning algorithm uses adaptive resource allocation and early-stopping to quickly converge on a high-performing model\n",
        "tuner = kt.Hyperband(build_model,\n",
        "                     #Metric which will be used for the hyperparameter tuning\n",
        "                     objective=\"val_accuracy\",\n",
        "                     max_epochs=20,\n",
        "                     #Reduction factor for the number of epochs and number of models for each bracket.\n",
        "                     factor=3,\n",
        "                     hyperband_iterations=10,\n",
        "                     directory=\"kt_dir\",\n",
        "                     project_name=\"kt_hyperband3\",)"
      ]
    },
    {
      "cell_type": "code",
      "execution_count": null,
      "metadata": {
        "id": "5C7zQR5e1cVx"
      },
      "outputs": [],
      "source": [
        "NUM_EPOCHS=20\n",
        "# tuner.search_space_summary()"
      ]
    },
    {
      "cell_type": "code",
      "execution_count": null,
      "metadata": {
        "id": "DQY46ujCCZrc"
      },
      "outputs": [],
      "source": [
        "#Initializing early-stopping\n",
        "stop_early = tf.keras.callbacks.EarlyStopping(monitor='val_loss', patience=2)\n",
        "\n",
        "# #Tuning\n",
        "# tuner.search(x_train_tfidf, y_train, epochs=NUM_EPOCHS, validation_data=(x_dev_tfidf.todense(),y_dev), callbacks=[stop_early], verbose=2)"
      ]
    },
    {
      "cell_type": "code",
      "execution_count": null,
      "metadata": {
        "id": "8ixv09c4FeZl"
      },
      "outputs": [],
      "source": [
        "# # Get the optimal hyperparameters from the results\n",
        "# best_hps=tuner.get_best_hyperparameters()[0]\n",
        "\n",
        "# # Build model\n",
        "# h_model = tuner.hypermodel.build(best_hps)\n",
        "\n",
        "# # Train the hypertuned model\n",
        "# h_model.fit(x_train_tfidf, y_train, epochs=NUM_EPOCHS, validation_split=0.2, callbacks=[stop_early], verbose=2)"
      ]
    },
    {
      "cell_type": "code",
      "execution_count": null,
      "metadata": {
        "id": "U9pj-l5XiiYp"
      },
      "outputs": [],
      "source": [
        "# #Checking model summary\n",
        "# h_model.summary()"
      ]
    },
    {
      "cell_type": "code",
      "execution_count": null,
      "metadata": {
        "id": "zoA5fWh2oAXz"
      },
      "outputs": [],
      "source": [
        "# #Classifying with our model\n",
        "# predictions_test = h_model.predict(x_test_tfidf.todense())\n",
        "# #Calculating F1 score\n",
        "# score = f1_score(y_test, np.round(predictions_test))\n",
        "\n",
        "# print(\"Test f1-score: {:.2f}% \\n\".format(score*100))\n",
        "# print(confusion_matrix(y_test, np.round(predictions_test)))"
      ]
    },
    {
      "cell_type": "code",
      "execution_count": null,
      "metadata": {
        "id": "sss3n0LiptkG"
      },
      "outputs": [],
      "source": [
        "# #Plotting confusion matrix\n",
        "# cm = confusion_matrix(y_test, np.round(predictions_test))\n",
        "# f = sns.heatmap(cm, annot=True, fmt='d')"
      ]
    },
    {
      "cell_type": "markdown",
      "metadata": {
        "id": "F-5nyVeWtBdF"
      },
      "source": [
        "###### Building the model manually(Efficient)"
      ]
    },
    {
      "cell_type": "code",
      "execution_count": null,
      "metadata": {
        "colab": {
          "base_uri": "https://localhost:8080/"
        },
        "id": "ubm9RrlqqXF2",
        "outputId": "af6a6748-f47c-44dc-bc7a-9e405c9ff9c5"
      },
      "outputs": [
        {
          "name": "stdout",
          "output_type": "stream",
          "text": [
            "Epoch 1/20\n",
            "1094/1094 - 8s - loss: 0.4376 - accuracy: 0.8131 - val_loss: 0.2767 - val_accuracy: 0.8860 - 8s/epoch - 7ms/step\n",
            "Epoch 2/20\n",
            "1094/1094 - 4s - loss: 0.2633 - accuracy: 0.8919 - val_loss: 0.2691 - val_accuracy: 0.8852 - 4s/epoch - 4ms/step\n",
            "Epoch 3/20\n",
            "1094/1094 - 4s - loss: 0.2441 - accuracy: 0.8994 - val_loss: 0.2724 - val_accuracy: 0.8835 - 4s/epoch - 4ms/step\n",
            "Epoch 4/20\n",
            "1094/1094 - 4s - loss: 0.2331 - accuracy: 0.9058 - val_loss: 0.2759 - val_accuracy: 0.8825 - 4s/epoch - 4ms/step\n",
            "1094/1094 [==============================] - 4s 3ms/step - loss: 0.2037 - accuracy: 0.9219\n",
            "Accuracy: 92.19\n"
          ]
        }
      ],
      "source": [
        "#As we are not able to run the tuning process everytime because it is too time consuming,we've stored the keras model information so as to build it from scratch.\n",
        "#Define the keras model\n",
        "model = Sequential()\n",
        "model.add(keras.layers.Flatten(input_shape=(2500,)))\n",
        "model.add(Dense(224, activation='relu'))\n",
        "model.add(Dropout(0.3))\n",
        "model.add(Dense(320, activation='relu'))\n",
        "model.add(Dropout(0.3))\n",
        "model.add(Dense(1, activation='sigmoid'))\n",
        "#Compiling the keras model\n",
        "model.compile(loss='binary_crossentropy', optimizer= Adam(learning_rate=1e-4), metrics=['accuracy'])\n",
        "#Fitting the keras model on the dataset\n",
        "history = model.fit(x_train_tfidf, y_train, epochs=NUM_EPOCHS, validation_data=(x_dev_tfidf.todense(),y_dev), callbacks=[stop_early], verbose=2)\n",
        "#Evaluating the keras model\n",
        "acc = model.evaluate(x_train_tfidf, y_train)\n",
        "print('Accuracy: %.2f' % (acc[1]*100))"
      ]
    },
    {
      "cell_type": "code",
      "execution_count": null,
      "metadata": {
        "colab": {
          "base_uri": "https://localhost:8080/"
        },
        "id": "CiS72sUaEE0f",
        "outputId": "96ffdd28-2e33-4f1b-e4c1-1f1a3c7c891a"
      },
      "outputs": [
        {
          "name": "stdout",
          "output_type": "stream",
          "text": [
            "Test f1-score: 88.07% \n",
            "\n",
            "[[3961  557]\n",
            " [ 517 3965]]\n"
          ]
        }
      ],
      "source": [
        "#Classifying with our model\n",
        "predictions_test = model.predict(x_test_tfidf.todense())\n",
        "\n",
        "#Calculating F1 score\n",
        "score = f1_score(y_test, np.round(predictions_test))\n",
        "\n",
        "print(\"Test f1-score: {:.2f}% \\n\".format(score*100))\n",
        "print(confusion_matrix(y_test, np.round(predictions_test)))"
      ]
    },
    {
      "cell_type": "code",
      "execution_count": null,
      "metadata": {
        "colab": {
          "base_uri": "https://localhost:8080/",
          "height": 500
        },
        "id": "GDcEqm1YH_I9",
        "outputId": "4650708c-ff40-42c5-f9af-8f5d627191b5"
      },
      "outputs": [
        {
          "data": {
            "image/png": "[encoded data removed]",
            "text/plain": [
              "<Figure size 842.4x595.44 with 2 Axes>"
            ]
          },
          "metadata": {},
          "output_type": "display_data"
        }
      ],
      "source": [
        "#Plotting confusion matrix\n",
        "cm = confusion_matrix(y_test, np.round(predictions_test))\n",
        "f = sns.heatmap(cm, annot=True, fmt='d')"
      ]
    },
    {
      "cell_type": "code",
      "execution_count": null,
      "metadata": {
        "colab": {
          "base_uri": "https://localhost:8080/",
          "height": 288
        },
        "id": "gHeFrEDnJ2E9",
        "outputId": "a203d162-e138-4eef-e7df-2c576d67fd62"
      },
      "outputs": [
        {
          "data": {
            "image/png": "[encoded data removed]",
            "text/plain": [
              "<Figure size 842.4x595.44 with 1 Axes>"
            ]
          },
          "metadata": {},
          "output_type": "display_data"
        }
      ],
      "source": [
        "import matplotlib.pyplot as pyplot\n",
        "#Plot loss during training/Manually adjusted patience to stop at 4 epochs\n",
        "pyplot.subplot(211)\n",
        "plt.ylim((0,0.55))\n",
        "plt.title('Loss during Epochs')\n",
        "plt.ylabel('Loss')\n",
        "plt.xlabel('Number of Epochs')\n",
        "pyplot.plot(history.history['loss'], label='train')\n",
        "pyplot.plot(history.history['val_loss'], label='dev')\n",
        "pyplot.legend();"
      ]
    },
    {
      "cell_type": "code",
      "execution_count": null,
      "metadata": {
        "colab": {
          "base_uri": "https://localhost:8080/"
        },
        "id": "XeRf7tHVRk0Y",
        "outputId": "4df4d1fb-76d1-4470-f81a-6c1b4956690b"
      },
      "outputs": [
        {
          "name": "stdout",
          "output_type": "stream",
          "text": [
            "Logistic Regression\n",
            "\n",
            "Train\n",
            "              precision    recall  f1-score   support\n",
            "\n",
            "           0       0.93      0.91      0.92     17487\n",
            "           1       0.91      0.93      0.92     17513\n",
            "\n",
            "    accuracy                           0.92     35000\n",
            "   macro avg       0.92      0.92      0.92     35000\n",
            "weighted avg       0.92      0.92      0.92     35000\n",
            "\n",
            "\n",
            "Dev\n",
            "              precision    recall  f1-score   support\n",
            "\n",
            "           0       0.89      0.87      0.88      2995\n",
            "           1       0.88      0.89      0.88      3005\n",
            "\n",
            "    accuracy                           0.88      6000\n",
            "   macro avg       0.88      0.88      0.88      6000\n",
            "weighted avg       0.88      0.88      0.88      6000\n",
            "\n",
            "\n",
            "Test\n",
            "              precision    recall  f1-score   support\n",
            "\n",
            "           0       0.88      0.88      0.88      4518\n",
            "           1       0.88      0.88      0.88      4482\n",
            "\n",
            "    accuracy                           0.88      9000\n",
            "   macro avg       0.88      0.88      0.88      9000\n",
            "weighted avg       0.88      0.88      0.88      9000\n",
            "\n"
          ]
        }
      ],
      "source": [
        "#Classification Report on train,dev,test datasets.\n",
        "print('Logistic Regression')\n",
        "print('')\n",
        "print('Train')\n",
        "print(classification_report(y_train,np.round(model.predict(x_train_tfidf))))\n",
        "print('')\n",
        "print('Dev')\n",
        "print(classification_report(y_dev,np.round(model.predict(x_dev_tfidf.todense()))))\n",
        "print('')\n",
        "print('Test')\n",
        "print(classification_report(y_test,np.round(predictions_test)))"
      ]
    },
    {
      "cell_type": "code",
      "execution_count": null,
      "metadata": {
        "colab": {
          "base_uri": "https://localhost:8080/"
        },
        "id": "GLCeyHUKQAW0",
        "outputId": "647b41e7-390a-4ecd-df35-4201764bb5dd"
      },
      "outputs": [
        {
          "name": "stdout",
          "output_type": "stream",
          "text": [
            "Train Positive 0.9744574708918998\n",
            "Train Negative 0.9756553027198278\n",
            "Dev Positive 0.952860731351516\n",
            "Dev Negative 0.9574023540298116\n",
            "Test Positive 0.9474909950335628\n",
            "Test Negative 0.9538314922134267\n"
          ]
        }
      ],
      "source": [
        "\n",
        "#Training AUC for the 2 Classes\n",
        "p,r,t = precision_recall_curve(y_train,model.predict(x_train_tfidf))\n",
        "positive_area=auc(r,p)\n",
        "print('Train Positive',positive_area)\n",
        "\n",
        "p2,r2,t2 = precision_recall_curve(1-y_train,1-model.predict(x_train_tfidf))\n",
        "negative_area=auc(r2,p2)\n",
        "print('Train Negative',negative_area)\n",
        "\n",
        "#Dev AUC for the 2 Classes\n",
        "p3,r3,t3 = precision_recall_curve(y_dev,model.predict(x_dev_tfidf.todense()))\n",
        "positive_area2=auc(r3,p3)\n",
        "print('Dev Positive',positive_area2)\n",
        "\n",
        "p4,r4,t4 = precision_recall_curve(1-y_dev,1-model.predict(x_dev_tfidf.todense()))\n",
        "negative_area2=auc(r4,p4)\n",
        "print('Dev Negative',negative_area2)\n",
        "\n",
        "\n",
        "#Test AUC for the 2 Classes\n",
        "p5,r5,t5 = precision_recall_curve(y_test,model.predict(x_test_tfidf.todense()))\n",
        "positive_area3=auc(r5,p5)\n",
        "print('Test Positive',positive_area3)\n",
        "\n",
        "p6,r6,t6 = precision_recall_curve(1-y_test,1-model.predict(x_test_tfidf.todense()))\n",
        "negative_area3=auc(r6,p6)\n",
        "print('Test Negative',negative_area3)"
      ]
    },
    {
      "cell_type": "code",
      "execution_count": null,
      "metadata": {
        "id": "0859hOwGXmQw"
      },
      "outputs": [],
      "source": [
        "# #Area Under the Curve score\n",
        "\n",
        "# print('Training AUC score = ',roc_auc_score(y_train,np.round(model.predict(x_train_tfidf))))\n",
        "# print('Dev AUC score = ',roc_auc_score(y_dev,np.round(model.predict(x_dev_tfidf.todense()))))\n",
        "# print('Test AUC score = ',roc_auc_score(y_test,predictions_test))"
      ]
    }
  ],
  "metadata": {
    "accelerator": "GPU",
    "colab": {
      "collapsed_sections": [],
      "provenance": []
    },
    "kernelspec": {
      "display_name": "Python 3",
      "name": "python3"
    },
    "language_info": {
      "name": "python"
    }
  },
  "nbformat": 4,
  "nbformat_minor": 0
}
